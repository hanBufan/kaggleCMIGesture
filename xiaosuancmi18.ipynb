{
 "cells": [
  {
   "cell_type": "markdown",
   "id": "ec7b3c26",
   "metadata": {
    "papermill": {
     "duration": 0.005577,
     "end_time": "2025-07-04T02:20:53.554834",
     "exception": false,
     "start_time": "2025-07-04T02:20:53.549257",
     "status": "completed"
    },
    "tags": []
   },
   "source": [
    "<h1 style=\"color: #6cb4e4;  text-align: center;  padding: 0.25em;  border-top: solid 2.5px #6cb4e4;  border-bottom: solid 2.5px #6cb4e4;  background: -webkit-repeating-linear-gradient(-45deg, #f0f8ff, #f0f8ff 3px,#e9f4ff 3px, #e9f4ff 7px);  background: repeating-linear-gradient(-45deg, #f0f8ff, #f0f8ff 3px,#e9f4ff 3px, #e9f4ff 7px);height:45px;\">\n",
    "<b>\n",
    "OnlyInfKernel\n",
    "</b></h1> "
   ]
  },
  {
   "cell_type": "code",
   "execution_count": 1,
   "id": "116d2a18",
   "metadata": {
    "execution": {
     "iopub.execute_input": "2025-07-04T02:20:53.565873Z",
     "iopub.status.busy": "2025-07-04T02:20:53.565228Z",
     "iopub.status.idle": "2025-07-04T02:20:53.572341Z",
     "shell.execute_reply": "2025-07-04T02:20:53.571705Z"
    },
    "papermill": {
     "duration": 0.013466,
     "end_time": "2025-07-04T02:20:53.573447",
     "exception": false,
     "start_time": "2025-07-04T02:20:53.559981",
     "status": "completed"
    },
    "tags": []
   },
   "outputs": [
    {
     "name": "stdout",
     "output_type": "stream",
     "text": [
      "hello wrld\n"
     ]
    }
   ],
   "source": [
    "print(\"hello wrld\")"
   ]
  },
  {
   "cell_type": "markdown",
   "id": "fd24db33",
   "metadata": {
    "papermill": {
     "duration": 0.004319,
     "end_time": "2025-07-04T02:20:53.582081",
     "exception": false,
     "start_time": "2025-07-04T02:20:53.577762",
     "status": "completed"
    },
    "tags": []
   },
   "source": [
    "### **ℹ️INFO**\n",
    "* First, we would like to thank our participants for sharing their excellent baselines.\n",
    "    * [Two‑Branch Human‑Activity‑Recognition Pipeline (IMU + Thermopile/TOF  + SE‑CNN + BiLSTM + Attentio](https://www.kaggle.com/code/vonmainstein/imu-tof)\n",
    "\n",
    "### **ℹ️IMU+THM/TOF Great Related works(Published)**\n",
    "* Thanks for sharing your implementation of the new feature.\n",
    "    * LB.75 [CMI25 | IMU+THM/TOF |TF BiLSTM+GRU+Attention|LB.75](https://www.kaggle.com/code/hideyukizushi/cmi25-imu-thm-tof-tf-bilstm-gru-attention-lb-75)\n",
    "    * LB.76 [IMU Signal Processing Optimization](https://www.kaggle.com/code/rktqwe/lb-0-76-imu-thm-tof-tf-bilstm-gru-attention)\n",
    "    * LB.77 [Gravity Component Removal from Accelerometer Data](https://www.kaggle.com/code/rktqwe/lb-0-77-linear-accel-tf-bilstm-gru-attention)\n",
    "    * LB.78 [New Feature: Angular Velocity from Quaternion Derivatives](https://www.kaggle.com/code/nksusth/lb-0-78-quaternions-tf-bilstm-gru-attention)\n",
    "\n",
    "---\n",
    "\n",
    "### **ℹ️MyUpdate**\n",
    "* In previous notebooks that used \"IMU+TOF\" as features, the validation strategy was TTS, which raised concerns about its robustness.\n",
    "For this reason, we will release an implementation that simply blends five models and a model with a high ValidationScore.\n",
    "\n",
    "```\n",
    "predictions = []\n",
    "for model in models:\n",
    "    idx = int(model.predict(pad_input, verbose=0).argmax(1)[0])\n",
    "    predictions.append(idx)\n",
    "\n",
    "idx = max(set(predictions), key=predictions.count)\n",
    "return str(gesture_classes[idx])\n",
    "```\n",
    "\n",
    "* The validationScore for the local training  model included in this notebook is\n",
    "    * [ModelWeight](https://www.kaggle.com/datasets/hideyukizushi/20250627-cmi-b-102-b-105)\n",
    "\n",
    "```\n",
    "0.891134700273056\n",
    "0.8912659261884439\n",
    "0.8914825129445727\n",
    "0.8915471835009202\n",
    "0.8922128108549205\n",
    "```\n"
   ]
  },
  {
   "cell_type": "markdown",
   "id": "6c6b5579",
   "metadata": {
    "papermill": {
     "duration": 0.004145,
     "end_time": "2025-07-04T02:20:53.590563",
     "exception": false,
     "start_time": "2025-07-04T02:20:53.586418",
     "status": "completed"
    },
    "tags": []
   },
   "source": [
    "<h1 style=\"color: #6cb4e4;  text-align: center;  padding: 0.25em;  border-top: solid 2.5px #6cb4e4;  border-bottom: solid 2.5px #6cb4e4;  background: -webkit-repeating-linear-gradient(-45deg, #f0f8ff, #f0f8ff 3px,#e9f4ff 3px, #e9f4ff 7px);  background: repeating-linear-gradient(-45deg, #f0f8ff, #f0f8ff 3px,#e9f4ff 3px, #e9f4ff 7px);height:45px;\">\n",
    "<b>\n",
    "Model Detail\n",
    "</b></h1> "
   ]
  },
  {
   "cell_type": "markdown",
   "id": "ac4ecdaa",
   "metadata": {
    "papermill": {
     "duration": 0.003894,
     "end_time": "2025-07-04T02:20:53.598824",
     "exception": false,
     "start_time": "2025-07-04T02:20:53.594930",
     "status": "completed"
    },
    "tags": []
   },
   "source": [
    "<h1 style=\"color: #6cb4e4;  text-align: center;  padding: 0.25em;  border-top: solid 2.5px #6cb4e4;  border-bottom: solid 2.5px #6cb4e4;  background: -webkit-repeating-linear-gradient(-45deg, #f0f8ff, #f0f8ff 3px,#e9f4ff 3px, #e9f4ff 7px);  background: repeating-linear-gradient(-45deg, #f0f8ff, #f0f8ff 3px,#e9f4ff 3px, #e9f4ff 7px);height:45px;\">\n",
    "<b>\n",
    "InfPipeline\n",
    "</b></h1> "
   ]
  },
  {
   "cell_type": "markdown",
   "id": "cecf18e7",
   "metadata": {
    "papermill": {
     "duration": 0.004015,
     "end_time": "2025-07-04T02:20:53.606902",
     "exception": false,
     "start_time": "2025-07-04T02:20:53.602887",
     "status": "completed"
    },
    "tags": []
   },
   "source": [
    "### 》》》**Importing the necessary Libraries**"
   ]
  },
  {
   "cell_type": "code",
   "execution_count": 2,
   "id": "2c2bbdf6",
   "metadata": {
    "_kg_hide-output": true,
    "execution": {
     "iopub.execute_input": "2025-07-04T02:20:53.617148Z",
     "iopub.status.busy": "2025-07-04T02:20:53.616327Z",
     "iopub.status.idle": "2025-07-04T02:21:11.363494Z",
     "shell.execute_reply": "2025-07-04T02:21:11.362658Z"
    },
    "papermill": {
     "duration": 17.753783,
     "end_time": "2025-07-04T02:21:11.364975",
     "exception": false,
     "start_time": "2025-07-04T02:20:53.611192",
     "status": "completed"
    },
    "tags": []
   },
   "outputs": [
    {
     "name": "stderr",
     "output_type": "stream",
     "text": [
      "2025-07-04 02:20:58.184477: E external/local_xla/xla/stream_executor/cuda/cuda_fft.cc:477] Unable to register cuFFT factory: Attempting to register factory for plugin cuFFT when one has already been registered\n",
      "WARNING: All log messages before absl::InitializeLog() is called are written to STDERR\n",
      "E0000 00:00:1751595658.400769      19 cuda_dnn.cc:8310] Unable to register cuDNN factory: Attempting to register factory for plugin cuDNN when one has already been registered\n",
      "E0000 00:00:1751595658.457759      19 cuda_blas.cc:1418] Unable to register cuBLAS factory: Attempting to register factory for plugin cuBLAS when one has already been registered\n"
     ]
    }
   ],
   "source": [
    "import os, json, joblib, numpy as np, pandas as pd\n",
    "from pathlib import Path\n",
    "import warnings \n",
    "warnings.filterwarnings(\"ignore\")\n",
    "\n",
    "\n",
    "from sklearn.model_selection import train_test_split\n",
    "from sklearn.preprocessing import StandardScaler, LabelEncoder\n",
    "from sklearn.utils.class_weight import compute_class_weight\n",
    "\n",
    "from tensorflow.keras.utils import Sequence, to_categorical, pad_sequences\n",
    "from tensorflow.keras.models import Model, load_model\n",
    "from tensorflow.keras.layers import (\n",
    "    Input, Conv1D, BatchNormalization, Activation, add, MaxPooling1D, Dropout,\n",
    "    Bidirectional, LSTM, GlobalAveragePooling1D, Dense, Multiply, Reshape,\n",
    "    Lambda, Concatenate, GRU, GaussianNoise\n",
    ")\n",
    "from tensorflow.keras.regularizers import l2\n",
    "from tensorflow.keras.optimizers import Adam\n",
    "from tensorflow.keras.callbacks import EarlyStopping\n",
    "from tensorflow.keras import backend as K\n",
    "import tensorflow as tf\n",
    "import polars as pl\n",
    "from sklearn.model_selection import StratifiedGroupKFold\n",
    "from scipy.spatial.transform import Rotation as R\n",
    "\n"
   ]
  },
  {
   "cell_type": "markdown",
   "id": "6f093ce2",
   "metadata": {
    "papermill": {
     "duration": 0.004199,
     "end_time": "2025-07-04T02:21:11.374076",
     "exception": false,
     "start_time": "2025-07-04T02:21:11.369877",
     "status": "completed"
    },
    "tags": []
   },
   "source": [
    "### 》》》**Fix Seed**"
   ]
  },
  {
   "cell_type": "code",
   "execution_count": 3,
   "id": "4aca2f3e",
   "metadata": {
    "execution": {
     "iopub.execute_input": "2025-07-04T02:21:11.384009Z",
     "iopub.status.busy": "2025-07-04T02:21:11.383519Z",
     "iopub.status.idle": "2025-07-04T02:21:11.388732Z",
     "shell.execute_reply": "2025-07-04T02:21:11.387991Z"
    },
    "papermill": {
     "duration": 0.011716,
     "end_time": "2025-07-04T02:21:11.390152",
     "exception": false,
     "start_time": "2025-07-04T02:21:11.378436",
     "status": "completed"
    },
    "tags": []
   },
   "outputs": [],
   "source": [
    "import random\n",
    "def seed_everything(seed):\n",
    "    os.environ['PYTHONHASHSEED'] = str(seed)\n",
    "    random.seed(seed)\n",
    "    np.random.seed(seed)\n",
    "    tf.random.set_seed(seed)\n",
    "    tf.experimental.numpy.random.seed(seed)\n",
    "    os.environ['TF_CUDNN_DETERMINISTIC'] = '1'\n",
    "    os.environ['TF_DETERMINISTIC_OPS'] = '1'\n",
    "seed_everything(seed=42)"
   ]
  },
  {
   "cell_type": "markdown",
   "id": "d90d0008",
   "metadata": {
    "papermill": {
     "duration": 0.004271,
     "end_time": "2025-07-04T02:21:11.398719",
     "exception": false,
     "start_time": "2025-07-04T02:21:11.394448",
     "status": "completed"
    },
    "tags": []
   },
   "source": [
    "### 》》》**Configuration**"
   ]
  },
  {
   "cell_type": "code",
   "execution_count": 4,
   "id": "14684273",
   "metadata": {
    "execution": {
     "iopub.execute_input": "2025-07-04T02:21:11.408248Z",
     "iopub.status.busy": "2025-07-04T02:21:11.407965Z",
     "iopub.status.idle": "2025-07-04T02:21:11.413183Z",
     "shell.execute_reply": "2025-07-04T02:21:11.412372Z"
    },
    "papermill": {
     "duration": 0.011399,
     "end_time": "2025-07-04T02:21:11.414321",
     "exception": false,
     "start_time": "2025-07-04T02:21:11.402922",
     "status": "completed"
    },
    "tags": []
   },
   "outputs": [
    {
     "name": "stdout",
     "output_type": "stream",
     "text": [
      "▶ imports ready · tensorflow 2.18.0\n"
     ]
    }
   ],
   "source": [
    "# (Competition metric will only be imported when TRAINing)\n",
    "TRAIN = True                     # ← set to True when you want to train\n",
    "RAW_DIR = Path(\"/kaggle/input/cmi-detect-behavior-with-sensor-data\")\n",
    "PRETRAINED_DIR = Path(\"/kaggle/input/lb-0-78-quaternions-tf-bilstm-gru-attention\")  # used when TRAIN=False\n",
    "EXPORT_DIR = Path(\"./\")                                    # artefacts will be saved here\n",
    "BATCH_SIZE = 64\n",
    "PAD_PERCENTILE = 95\n",
    "LR_INIT = 5e-4\n",
    "WD = 3e-3\n",
    "MIXUP_ALPHA = 0.4\n",
    "EPOCHS = 160\n",
    "PATIENCE = 40\n",
    "\n",
    "\n",
    "print(\"▶ imports ready · tensorflow\", tf.__version__)"
   ]
  },
  {
   "cell_type": "markdown",
   "id": "28876cd0",
   "metadata": {
    "papermill": {
     "duration": 0.004661,
     "end_time": "2025-07-04T02:21:11.423445",
     "exception": false,
     "start_time": "2025-07-04T02:21:11.418784",
     "status": "completed"
    },
    "tags": []
   },
   "source": [
    "### 》》》**Utility Functions**"
   ]
  },
  {
   "cell_type": "code",
   "execution_count": 5,
   "id": "9ac35d15",
   "metadata": {
    "execution": {
     "iopub.execute_input": "2025-07-04T02:21:11.432780Z",
     "iopub.status.busy": "2025-07-04T02:21:11.432539Z",
     "iopub.status.idle": "2025-07-04T02:21:11.440449Z",
     "shell.execute_reply": "2025-07-04T02:21:11.439833Z"
    },
    "papermill": {
     "duration": 0.014127,
     "end_time": "2025-07-04T02:21:11.441704",
     "exception": false,
     "start_time": "2025-07-04T02:21:11.427577",
     "status": "completed"
    },
    "tags": []
   },
   "outputs": [],
   "source": [
    "#Tensor Manipulations\n",
    "def time_sum(x):\n",
    "    return K.sum(x, axis=1)\n",
    "\n",
    "def squeeze_last_axis(x):\n",
    "    return tf.squeeze(x, axis=-1)\n",
    "\n",
    "def expand_last_axis(x):\n",
    "    return tf.expand_dims(x, axis=-1)\n",
    "\n",
    "def se_block(x, reduction=8):\n",
    "    ch = x.shape[-1]\n",
    "    se = GlobalAveragePooling1D()(x)\n",
    "    se = Dense(ch // reduction, activation='relu')(se)\n",
    "    se = Dense(ch, activation='sigmoid')(se)\n",
    "    se = Reshape((1, ch))(se)\n",
    "    return Multiply()([x, se])\n",
    "\n",
    "# Residual CNN Block with SE\n",
    "def residual_se_cnn_block(x, filters, kernel_size, pool_size=2, drop=0.3, wd=1e-4):\n",
    "    shortcut = x\n",
    "    for _ in range(2):\n",
    "        x = Conv1D(filters, kernel_size, padding='same', use_bias=False,\n",
    "                   kernel_regularizer=l2(wd))(x)\n",
    "        x = BatchNormalization()(x)\n",
    "        x = Activation('relu')(x)\n",
    "    x = se_block(x)\n",
    "    if shortcut.shape[-1] != filters:\n",
    "        shortcut = Conv1D(filters, 1, padding='same', use_bias=False,\n",
    "                          kernel_regularizer=l2(wd))(shortcut)\n",
    "        shortcut = BatchNormalization()(shortcut)\n",
    "    x = add([x, shortcut])\n",
    "    x = Activation('relu')(x)\n",
    "    x = MaxPooling1D(pool_size)(x)\n",
    "    x = Dropout(drop)(x)\n",
    "    return x\n",
    "\n",
    "def attention_layer(inputs):\n",
    "    score = Dense(1, activation='tanh')(inputs)\n",
    "    score = Lambda(squeeze_last_axis)(score)\n",
    "    weights = Activation('softmax')(score)\n",
    "    weights = Lambda(expand_last_axis)(weights)\n",
    "    context = Multiply()([inputs, weights])\n",
    "    context = Lambda(time_sum)(context)\n",
    "    return context"
   ]
  },
  {
   "cell_type": "markdown",
   "id": "8814aa4a",
   "metadata": {
    "papermill": {
     "duration": 0.005643,
     "end_time": "2025-07-04T02:21:11.451878",
     "exception": false,
     "start_time": "2025-07-04T02:21:11.446235",
     "status": "completed"
    },
    "tags": []
   },
   "source": [
    "### 》》》**Data Helpers**"
   ]
  },
  {
   "cell_type": "code",
   "execution_count": 6,
   "id": "a2f059f9",
   "metadata": {
    "execution": {
     "iopub.execute_input": "2025-07-04T02:21:11.462150Z",
     "iopub.status.busy": "2025-07-04T02:21:11.461556Z",
     "iopub.status.idle": "2025-07-04T02:21:11.467869Z",
     "shell.execute_reply": "2025-07-04T02:21:11.467295Z"
    },
    "papermill": {
     "duration": 0.012708,
     "end_time": "2025-07-04T02:21:11.468949",
     "exception": false,
     "start_time": "2025-07-04T02:21:11.456241",
     "status": "completed"
    },
    "tags": []
   },
   "outputs": [],
   "source": [
    "# Normalizes and cleans the time series sequence. \n",
    "\n",
    "def preprocess_sequence(df_seq: pd.DataFrame, feature_cols: list[str], scaler: StandardScaler):\n",
    "    mat = df_seq[feature_cols].ffill().bfill().fillna(0).values\n",
    "    return scaler.transform(mat).astype('float32')\n",
    "\n",
    "# MixUp the data argumentation in order to regularize the neural network. \n",
    "\n",
    "class MixupGenerator(Sequence):\n",
    "    def __init__(self, X, y, batch_size, alpha=0.2):\n",
    "        self.X, self.y = X, y\n",
    "        self.batch = batch_size\n",
    "        self.alpha = alpha\n",
    "        self.indices = np.arange(len(X))\n",
    "    def __len__(self):\n",
    "        return int(np.ceil(len(self.X) / self.batch))\n",
    "    def __getitem__(self, i):\n",
    "        idx = self.indices[i*self.batch:(i+1)*self.batch]\n",
    "        Xb, yb = self.X[idx], self.y[idx]\n",
    "        lam = np.random.beta(self.alpha, self.alpha)\n",
    "        perm = np.random.permutation(len(Xb))\n",
    "        X_mix = lam * Xb + (1-lam) * Xb[perm]\n",
    "        y_mix = lam * yb + (1-lam) * yb[perm]\n",
    "        return X_mix, y_mix\n",
    "    def on_epoch_end(self):\n",
    "        np.random.shuffle(self.indices)"
   ]
  },
  {
   "cell_type": "code",
   "execution_count": 7,
   "id": "62a3044c",
   "metadata": {
    "execution": {
     "iopub.execute_input": "2025-07-04T02:21:11.478545Z",
     "iopub.status.busy": "2025-07-04T02:21:11.478299Z",
     "iopub.status.idle": "2025-07-04T02:21:11.486172Z",
     "shell.execute_reply": "2025-07-04T02:21:11.485615Z"
    },
    "papermill": {
     "duration": 0.014098,
     "end_time": "2025-07-04T02:21:11.487277",
     "exception": false,
     "start_time": "2025-07-04T02:21:11.473179",
     "status": "completed"
    },
    "tags": []
   },
   "outputs": [],
   "source": [
    "def remove_gravity_from_acc(acc_data, rot_data):\n",
    "\n",
    "    if isinstance(acc_data, pd.DataFrame):\n",
    "        acc_values = acc_data[['acc_x', 'acc_y', 'acc_z']].values\n",
    "    else:\n",
    "        acc_values = acc_data\n",
    "\n",
    "    if isinstance(rot_data, pd.DataFrame):\n",
    "        quat_values = rot_data[['rot_x', 'rot_y', 'rot_z', 'rot_w']].values\n",
    "    else:\n",
    "        quat_values = rot_data\n",
    "\n",
    "    num_samples = acc_values.shape[0]\n",
    "    linear_accel = np.zeros_like(acc_values)\n",
    "    \n",
    "    gravity_world = np.array([0, 0, 9.81])\n",
    "\n",
    "    for i in range(num_samples):\n",
    "        if np.all(np.isnan(quat_values[i])) or np.all(np.isclose(quat_values[i], 0)):\n",
    "            linear_accel[i, :] = acc_values[i, :] \n",
    "            continue\n",
    "\n",
    "        try:\n",
    "            rotation = R.from_quat(quat_values[i])\n",
    "            gravity_sensor_frame = rotation.apply(gravity_world, inverse=True)\n",
    "            linear_accel[i, :] = acc_values[i, :] - gravity_sensor_frame\n",
    "        except ValueError:\n",
    "             linear_accel[i, :] = acc_values[i, :]\n",
    "             \n",
    "    return linear_accel\n",
    "\n",
    "def calculate_angular_velocity_from_quat(rot_data, time_delta=1/200): # Assuming 200Hz sampling rate\n",
    "    if isinstance(rot_data, pd.DataFrame):\n",
    "        quat_values = rot_data[['rot_x', 'rot_y', 'rot_z', 'rot_w']].values\n",
    "    else:\n",
    "        quat_values = rot_data\n",
    "\n",
    "    num_samples = quat_values.shape[0]\n",
    "    angular_vel = np.zeros((num_samples, 3))\n",
    "\n",
    "    for i in range(num_samples - 1):\n",
    "        q_t = quat_values[i]\n",
    "        q_t_plus_dt = quat_values[i+1]\n",
    "\n",
    "        if np.all(np.isnan(q_t)) or np.all(np.isclose(q_t, 0)) or \\\n",
    "           np.all(np.isnan(q_t_plus_dt)) or np.all(np.isclose(q_t_plus_dt, 0)):\n",
    "            continue\n",
    "\n",
    "        try:\n",
    "            rot_t = R.from_quat(q_t)\n",
    "            rot_t_plus_dt = R.from_quat(q_t_plus_dt)\n",
    "\n",
    "            # Calculate the relative rotation\n",
    "            delta_rot = rot_t.inv() * rot_t_plus_dt\n",
    "            \n",
    "            # Convert delta rotation to angular velocity vector\n",
    "            # The rotation vector (Euler axis * angle) scaled by 1/dt\n",
    "            # is a good approximation for small delta_rot\n",
    "            angular_vel[i, :] = delta_rot.as_rotvec() / time_delta\n",
    "        except ValueError:\n",
    "            # If quaternion is invalid, angular velocity remains zero\n",
    "            pass\n",
    "            \n",
    "    return angular_vel"
   ]
  },
  {
   "cell_type": "code",
   "execution_count": 8,
   "id": "0de2cc5d",
   "metadata": {
    "execution": {
     "iopub.execute_input": "2025-07-04T02:21:11.496935Z",
     "iopub.status.busy": "2025-07-04T02:21:11.496672Z",
     "iopub.status.idle": "2025-07-04T02:21:11.502425Z",
     "shell.execute_reply": "2025-07-04T02:21:11.501891Z"
    },
    "papermill": {
     "duration": 0.011804,
     "end_time": "2025-07-04T02:21:11.503539",
     "exception": false,
     "start_time": "2025-07-04T02:21:11.491735",
     "status": "completed"
    },
    "tags": []
   },
   "outputs": [],
   "source": [
    "def calculate_angular_distance(rot_data):\n",
    "    if isinstance(rot_data, pd.DataFrame):\n",
    "        quat_values = rot_data[['rot_x', 'rot_y', 'rot_z', 'rot_w']].values\n",
    "    else:\n",
    "        quat_values = rot_data\n",
    "\n",
    "    num_samples = quat_values.shape[0]\n",
    "    angular_dist = np.zeros(num_samples)\n",
    "\n",
    "    for i in range(num_samples - 1):\n",
    "        q1 = quat_values[i]\n",
    "        q2 = quat_values[i+1]\n",
    "\n",
    "        if np.all(np.isnan(q1)) or np.all(np.isclose(q1, 0)) or \\\n",
    "           np.all(np.isnan(q2)) or np.all(np.isclose(q2, 0)):\n",
    "            angular_dist[i] = 0 # Or np.nan, depending on desired behavior\n",
    "            continue\n",
    "        try:\n",
    "            # Conversion of quaternions to Rotation objects\n",
    "            r1 = R.from_quat(q1)\n",
    "            r2 = R.from_quat(q2)\n",
    "\n",
    "            # Calculating angular distance: 2 * arccos(|real(p * q*)|)\n",
    "            # where p* is the conjugate quaternion of q\n",
    "            # In scipy.spatial.transform.Rotation, r1.inv() * r2 gives the relative rotation.\n",
    "            # The angle of this relative rotation is the angular distance.\n",
    "            relative_rotation = r1.inv() * r2\n",
    "            \n",
    "            # The angle of the rotation vector corresponds to the angular distance\n",
    "            # The norm of the rotation vector is the angle in radians\n",
    "            angle = np.linalg.norm(relative_rotation.as_rotvec())\n",
    "            angular_dist[i] = angle\n",
    "        except ValueError:\n",
    "            angular_dist[i] = 0 # In case of invalid quaternions\n",
    "            pass\n",
    "            \n",
    "    return angular_dist\n"
   ]
  },
  {
   "cell_type": "code",
   "execution_count": 9,
   "id": "ee13aa15",
   "metadata": {
    "execution": {
     "iopub.execute_input": "2025-07-04T02:21:11.513520Z",
     "iopub.status.busy": "2025-07-04T02:21:11.513272Z",
     "iopub.status.idle": "2025-07-04T02:21:11.532064Z",
     "shell.execute_reply": "2025-07-04T02:21:11.531388Z"
    },
    "papermill": {
     "duration": 0.025078,
     "end_time": "2025-07-04T02:21:11.533054",
     "exception": false,
     "start_time": "2025-07-04T02:21:11.507976",
     "status": "completed"
    },
    "tags": []
   },
   "outputs": [
    {
     "name": "stdout",
     "output_type": "stream",
     "text": [
      "Adjusted Linear Acceleration: [[0.23660254 0.2        0.20980762]]\n"
     ]
    }
   ],
   "source": [
    "import re\n",
    "def equivalentToSittingStraight(linear_accel, orientation):\n",
    "    \"\"\"\n",
    "    将加速度数据转换为坐直（sitting straight）姿势下的加速度。\n",
    "    \n",
    "    参数：\n",
    "    - linear_accel: 三维加速度数据（如经过重力去除后的平动加速度）。\n",
    "    - orientation: 当前的姿势信息（如 \"seated lean\", \"seated straight\", \"lie on side\" 等）。\n",
    "    \n",
    "    返回：\n",
    "    - 转换为坐正姿势后的加速度数据。\n",
    "    \"\"\"\n",
    "    # 检查 \"seated lean\" 姿势\n",
    "    if re.search(r'\\bseated\\s*lean\\b', orientation, re.IGNORECASE):\n",
    "        rotation = R.from_euler('xyz', [0, -30, 0], degrees=True)  # 负的 Pitch\n",
    "    # 检查 \"seated straight\" 姿势\n",
    "    elif re.search(r'\\bseated\\s*straight\\b', orientation, re.IGNORECASE):\n",
    "        rotation = R.from_euler('xyz', [0, 0, 0], degrees=True)  # 没有旋转\n",
    "    # 检查 \"lie on side\" 姿势\n",
    "    elif re.search(r'\\blie\\s*on\\s*side\\b', orientation, re.IGNORECASE):\n",
    "        rotation = R.from_euler('xyz', [90, 90, 0], degrees=True)  # 90° Roll 和 90° Pitch\n",
    "    # 检查 \"lie on back\" 姿势\n",
    "    elif re.search(r'\\blie\\s*on\\s*back\\b', orientation, re.IGNORECASE):\n",
    "        rotation = R.from_euler('xyz', [0, 90, 0], degrees=True)  # 90° Pitch\n",
    "    else:\n",
    "        # 如果姿势没有匹配，返回原始加速度\n",
    "        rotation = R.from_euler('xyz', [0, 0, 0], degrees=True)  # 默认无旋转\n",
    "    \n",
    "    # 获取旋转矩阵的逆\n",
    "    inverseRotation = rotation.inv().as_matrix()\n",
    "\n",
    "    # 确保 linear_accel 是三维向量（例如形状为 (3,) 或 (n, 3)）\n",
    "    # 如果 linear_accel 是一个 1D 数组，转换为 (3, ) 的 3D 向量\n",
    "    if linear_accel.ndim == 1:\n",
    "        linear_accel = linear_accel.reshape(1, 3)  # 将其转为 1 x 3 数组\n",
    "\n",
    "    # 使用逆旋转矩阵对加速度进行转换\n",
    "    adjusted_accel = inverseRotation @ linear_accel.T  # 矩阵乘法，确保形状匹配\n",
    "\n",
    "    return adjusted_accel.T  # 返回转换后的加速度数据\n",
    "\n",
    "# 例子\n",
    "linear_accel = np.array([0.1, 0.2, 0.3])  # 三维加速度向量\n",
    "orientation = 'seated lean'\n",
    "\n",
    "adjusted_accel = equivalentToSittingStraight(linear_accel, orientation)\n",
    "print(f\"Adjusted Linear Acceleration: {adjusted_accel}\")\n"
   ]
  },
  {
   "cell_type": "markdown",
   "id": "6eb75fbb",
   "metadata": {
    "papermill": {
     "duration": 0.004317,
     "end_time": "2025-07-04T02:21:11.542052",
     "exception": false,
     "start_time": "2025-07-04T02:21:11.537735",
     "status": "completed"
    },
    "tags": []
   },
   "source": [
    "### 》》》**Model Definition - Two Branch Architecture**"
   ]
  },
  {
   "cell_type": "code",
   "execution_count": 10,
   "id": "0b8ec440",
   "metadata": {
    "_kg_hide-output": true,
    "execution": {
     "iopub.execute_input": "2025-07-04T02:21:11.552101Z",
     "iopub.status.busy": "2025-07-04T02:21:11.551613Z",
     "iopub.status.idle": "2025-07-04T02:21:14.871954Z",
     "shell.execute_reply": "2025-07-04T02:21:14.871289Z"
    },
    "papermill": {
     "duration": 3.326902,
     "end_time": "2025-07-04T02:21:14.873441",
     "exception": false,
     "start_time": "2025-07-04T02:21:11.546539",
     "status": "completed"
    },
    "tags": []
   },
   "outputs": [
    {
     "name": "stderr",
     "output_type": "stream",
     "text": [
      "I0000 00:00:1751595672.662805      19 gpu_device.cc:2022] Created device /job:localhost/replica:0/task:0/device:GPU:0 with 15513 MB memory:  -> device: 0, name: Tesla P100-PCIE-16GB, pci bus id: 0000:00:04.0, compute capability: 6.0\n"
     ]
    }
   ],
   "source": [
    "def build_two_branch_model(pad_len, imu_dim, tof_dim, n_classes, wd=1e-4):\n",
    "    inp = Input(shape=(pad_len, imu_dim+tof_dim))\n",
    "    imu = Lambda(lambda t: t[:, :, :imu_dim])(inp)\n",
    "    tof = Lambda(lambda t: t[:, :, imu_dim:])(inp)\n",
    "\n",
    "    # IMU deep branch\n",
    "    x1 = residual_se_cnn_block(imu, 64, 3, drop=0.1, wd=wd)\n",
    "    x1 = residual_se_cnn_block(x1, 128, 5, drop=0.1, wd=wd)\n",
    "\n",
    "    # TOF/Thermal lighter branch\n",
    "    x2 = Conv1D(64, 3, padding='same', use_bias=False, kernel_regularizer=l2(wd))(tof)\n",
    "    x2 = BatchNormalization()(x2); x2 = Activation('relu')(x2)\n",
    "    x2 = MaxPooling1D(2)(x2); x2 = Dropout(0.2)(x2)\n",
    "    x2 = Conv1D(128, 3, padding='same', use_bias=False, kernel_regularizer=l2(wd))(x2)\n",
    "    x2 = BatchNormalization()(x2); x2 = Activation('relu')(x2)\n",
    "    x2 = MaxPooling1D(2)(x2); x2 = Dropout(0.2)(x2)\n",
    "\n",
    "    merged = Concatenate()([x1, x2])\n",
    "\n",
    "    xa = Bidirectional(LSTM(128, return_sequences=True, kernel_regularizer=l2(wd)))(merged)\n",
    "    xb = Bidirectional(GRU(128, return_sequences=True, kernel_regularizer=l2(wd)))(merged)\n",
    "    xc = GaussianNoise(0.09)(merged)\n",
    "    xc = Dense(16, activation='elu')(xc)\n",
    "    \n",
    "    x = Concatenate()([xa, xb, xc])\n",
    "    x = Dropout(0.4)(x)\n",
    "    x = attention_layer(x)\n",
    "\n",
    "    for units, drop in [(256, 0.5), (128, 0.3)]:\n",
    "        x = Dense(units, use_bias=False, kernel_regularizer=l2(wd))(x)\n",
    "        x = BatchNormalization()(x); x = Activation('relu')(x)\n",
    "        x = Dropout(drop)(x)\n",
    "\n",
    "    out = Dense(n_classes, activation='softmax', kernel_regularizer=l2(wd))(x)\n",
    "    return Model(inp, out)\n",
    "\n",
    "tmp_model = build_two_branch_model(127,7,325,18)"
   ]
  },
  {
   "cell_type": "markdown",
   "id": "64a98524",
   "metadata": {
    "papermill": {
     "duration": 0.00487,
     "end_time": "2025-07-04T02:21:14.883718",
     "exception": false,
     "start_time": "2025-07-04T02:21:14.878848",
     "status": "completed"
    },
    "tags": []
   },
   "source": [
    "### 》》》**Training / Inference Pipeline**"
   ]
  },
  {
   "cell_type": "code",
   "execution_count": 11,
   "id": "e10f7ea7",
   "metadata": {
    "execution": {
     "iopub.execute_input": "2025-07-04T02:21:14.894477Z",
     "iopub.status.busy": "2025-07-04T02:21:14.893942Z",
     "iopub.status.idle": "2025-07-04T02:21:14.898669Z",
     "shell.execute_reply": "2025-07-04T02:21:14.898003Z"
    },
    "papermill": {
     "duration": 0.011199,
     "end_time": "2025-07-04T02:21:14.899829",
     "exception": false,
     "start_time": "2025-07-04T02:21:14.888630",
     "status": "completed"
    },
    "tags": []
   },
   "outputs": [
    {
     "name": "stdout",
     "output_type": "stream",
     "text": [
      "hello world custom objects\n"
     ]
    }
   ],
   "source": [
    "custom_objs = {\n",
    "    'time_sum': time_sum,\n",
    "    'squeeze_last_axis': squeeze_last_axis,\n",
    "    'expand_last_axis': expand_last_axis,\n",
    "    'se_block': se_block,\n",
    "    'residual_se_cnn_block': residual_se_cnn_block,\n",
    "    'attention_layer': attention_layer,\n",
    "}\n",
    "\n",
    "print(\"hello world custom objects\")"
   ]
  },
  {
   "cell_type": "code",
   "execution_count": 12,
   "id": "db809d46",
   "metadata": {
    "execution": {
     "iopub.execute_input": "2025-07-04T02:21:14.910870Z",
     "iopub.status.busy": "2025-07-04T02:21:14.910644Z",
     "iopub.status.idle": "2025-07-04T02:39:36.161702Z",
     "shell.execute_reply": "2025-07-04T02:39:36.160807Z"
    },
    "papermill": {
     "duration": 1101.258548,
     "end_time": "2025-07-04T02:39:36.163274",
     "exception": false,
     "start_time": "2025-07-04T02:21:14.904726",
     "status": "completed"
    },
    "scrolled": true,
    "tags": []
   },
   "outputs": [
    {
     "name": "stdout",
     "output_type": "stream",
     "text": [
      "▶ TRAIN MODE – loading dataset …\n",
      "  Calculating base engineered IMU features (magnitude, angle)...\n",
      "  Calculating engineered IMU derivatives (jerk, angular velocity) for original acc_mag...\n",
      "  Removing gravity and calculating linear acceleration features...\n",
      "  Calculating angular velocity from quaternion derivatives...\n",
      "  Calculating angular distance between successive quaternions...\n",
      "  IMU (incl. engineered & derivatives) 17 | THM + Aggregated TOF 25 | total 42 features\n",
      "  Building sequences with aggregated TOF and preparing data for scaler...\n",
      "  Fitting StandardScaler...\n",
      "  Scaling and padding sequences...\n",
      "  Splitting data and preparing for training...\n",
      "  Starting model training...\n",
      "Epoch 1/160\n"
     ]
    },
    {
     "name": "stderr",
     "output_type": "stream",
     "text": [
      "I0000 00:00:1751596125.401471      59 cuda_dnn.cc:529] Loaded cuDNN version 90300\n"
     ]
    },
    {
     "name": "stdout",
     "output_type": "stream",
     "text": [
      "\u001b[1m101/102\u001b[0m \u001b[32m━━━━━━━━━━━━━━━━━━━\u001b[0m\u001b[37m━\u001b[0m \u001b[1m0s\u001b[0m 40ms/step - accuracy: 0.1155 - loss: 9.7757"
     ]
    },
    {
     "name": "stderr",
     "output_type": "stream",
     "text": [
      "2025-07-04 02:28:52.375692: E tensorflow/core/framework/node_def_util.cc:676] NodeDef mentions attribute use_unbounded_threadpool which is not in the op definition: Op<name=MapDataset; signature=input_dataset:variant, other_arguments: -> handle:variant; attr=f:func; attr=Targuments:list(type),min=0; attr=output_types:list(type),min=1; attr=output_shapes:list(shape),min=1; attr=use_inter_op_parallelism:bool,default=true; attr=preserve_cardinality:bool,default=false; attr=force_synchronous:bool,default=false; attr=metadata:string,default=\"\"> This may be expected if your graph generating binary is newer  than this binary. Unknown attributes will be ignored. NodeDef: {{node ParallelMapDatasetV2/_15}}\n"
     ]
    },
    {
     "name": "stdout",
     "output_type": "stream",
     "text": [
      "\u001b[1m102/102\u001b[0m \u001b[32m━━━━━━━━━━━━━━━━━━━━\u001b[0m\u001b[37m\u001b[0m \u001b[1m28s\u001b[0m 63ms/step - accuracy: 0.1164 - loss: 9.7629 - val_accuracy: 0.3581 - val_loss: 7.9796\n",
      "Epoch 2/160\n",
      "\u001b[1m102/102\u001b[0m \u001b[32m━━━━━━━━━━━━━━━━━━━━\u001b[0m\u001b[37m\u001b[0m \u001b[1m5s\u001b[0m 45ms/step - accuracy: 0.2756 - loss: 7.5309 - val_accuracy: 0.4684 - val_loss: 6.3049\n",
      "Epoch 3/160\n",
      "\u001b[1m102/102\u001b[0m \u001b[32m━━━━━━━━━━━━━━━━━━━━\u001b[0m\u001b[37m\u001b[0m \u001b[1m5s\u001b[0m 44ms/step - accuracy: 0.3636 - loss: 6.3309 - val_accuracy: 0.4936 - val_loss: 5.2934\n",
      "Epoch 4/160\n",
      "\u001b[1m102/102\u001b[0m \u001b[32m━━━━━━━━━━━━━━━━━━━━\u001b[0m\u001b[37m\u001b[0m \u001b[1m5s\u001b[0m 44ms/step - accuracy: 0.4209 - loss: 5.4476 - val_accuracy: 0.5003 - val_loss: 4.6969\n",
      "Epoch 5/160\n",
      "\u001b[1m102/102\u001b[0m \u001b[32m━━━━━━━━━━━━━━━━━━━━\u001b[0m\u001b[37m\u001b[0m \u001b[1m5s\u001b[0m 46ms/step - accuracy: 0.4655 - loss: 4.8369 - val_accuracy: 0.5573 - val_loss: 4.1705\n",
      "Epoch 6/160\n",
      "\u001b[1m102/102\u001b[0m \u001b[32m━━━━━━━━━━━━━━━━━━━━\u001b[0m\u001b[37m\u001b[0m \u001b[1m5s\u001b[0m 45ms/step - accuracy: 0.4805 - loss: 4.4296 - val_accuracy: 0.5573 - val_loss: 3.8425\n",
      "Epoch 7/160\n",
      "\u001b[1m102/102\u001b[0m \u001b[32m━━━━━━━━━━━━━━━━━━━━\u001b[0m\u001b[37m\u001b[0m \u001b[1m5s\u001b[0m 44ms/step - accuracy: 0.4882 - loss: 4.1596 - val_accuracy: 0.5868 - val_loss: 3.5820\n",
      "Epoch 8/160\n",
      "\u001b[1m102/102\u001b[0m \u001b[32m━━━━━━━━━━━━━━━━━━━━\u001b[0m\u001b[37m\u001b[0m \u001b[1m5s\u001b[0m 45ms/step - accuracy: 0.5039 - loss: 3.9176 - val_accuracy: 0.5886 - val_loss: 3.4298\n",
      "Epoch 9/160\n",
      "\u001b[1m102/102\u001b[0m \u001b[32m━━━━━━━━━━━━━━━━━━━━\u001b[0m\u001b[37m\u001b[0m \u001b[1m5s\u001b[0m 45ms/step - accuracy: 0.5232 - loss: 3.7041 - val_accuracy: 0.5953 - val_loss: 3.2711\n",
      "Epoch 10/160\n",
      "\u001b[1m102/102\u001b[0m \u001b[32m━━━━━━━━━━━━━━━━━━━━\u001b[0m\u001b[37m\u001b[0m \u001b[1m5s\u001b[0m 45ms/step - accuracy: 0.5517 - loss: 3.5884 - val_accuracy: 0.6137 - val_loss: 3.1436\n",
      "Epoch 11/160\n",
      "\u001b[1m102/102\u001b[0m \u001b[32m━━━━━━━━━━━━━━━━━━━━\u001b[0m\u001b[37m\u001b[0m \u001b[1m5s\u001b[0m 45ms/step - accuracy: 0.5656 - loss: 3.5140 - val_accuracy: 0.6205 - val_loss: 3.0713\n",
      "Epoch 12/160\n",
      "\u001b[1m102/102\u001b[0m \u001b[32m━━━━━━━━━━━━━━━━━━━━\u001b[0m\u001b[37m\u001b[0m \u001b[1m5s\u001b[0m 46ms/step - accuracy: 0.5687 - loss: 3.4276 - val_accuracy: 0.6260 - val_loss: 3.0225\n",
      "Epoch 13/160\n",
      "\u001b[1m102/102\u001b[0m \u001b[32m━━━━━━━━━━━━━━━━━━━━\u001b[0m\u001b[37m\u001b[0m \u001b[1m5s\u001b[0m 44ms/step - accuracy: 0.5984 - loss: 3.3241 - val_accuracy: 0.6389 - val_loss: 2.9880\n",
      "Epoch 14/160\n",
      "\u001b[1m102/102\u001b[0m \u001b[32m━━━━━━━━━━━━━━━━━━━━\u001b[0m\u001b[37m\u001b[0m \u001b[1m5s\u001b[0m 45ms/step - accuracy: 0.5873 - loss: 3.3406 - val_accuracy: 0.6364 - val_loss: 2.9773\n",
      "Epoch 15/160\n",
      "\u001b[1m102/102\u001b[0m \u001b[32m━━━━━━━━━━━━━━━━━━━━\u001b[0m\u001b[37m\u001b[0m \u001b[1m5s\u001b[0m 44ms/step - accuracy: 0.5872 - loss: 3.2787 - val_accuracy: 0.5861 - val_loss: 3.0518\n",
      "Epoch 16/160\n",
      "\u001b[1m102/102\u001b[0m \u001b[32m━━━━━━━━━━━━━━━━━━━━\u001b[0m\u001b[37m\u001b[0m \u001b[1m5s\u001b[0m 44ms/step - accuracy: 0.5124 - loss: 3.3752 - val_accuracy: 0.5518 - val_loss: 2.9606\n",
      "Epoch 17/160\n",
      "\u001b[1m102/102\u001b[0m \u001b[32m━━━━━━━━━━━━━━━━━━━━\u001b[0m\u001b[37m\u001b[0m \u001b[1m5s\u001b[0m 44ms/step - accuracy: 0.5681 - loss: 3.1113 - val_accuracy: 0.5653 - val_loss: 2.7418\n",
      "Epoch 18/160\n",
      "\u001b[1m102/102\u001b[0m \u001b[32m━━━━━━━━━━━━━━━━━━━━\u001b[0m\u001b[37m\u001b[0m \u001b[1m5s\u001b[0m 45ms/step - accuracy: 0.5496 - loss: 2.9765 - val_accuracy: 0.5757 - val_loss: 2.5956\n",
      "Epoch 19/160\n",
      "\u001b[1m102/102\u001b[0m \u001b[32m━━━━━━━━━━━━━━━━━━━━\u001b[0m\u001b[37m\u001b[0m \u001b[1m5s\u001b[0m 45ms/step - accuracy: 0.5885 - loss: 2.7988 - val_accuracy: 0.5543 - val_loss: 2.5654\n",
      "Epoch 20/160\n",
      "\u001b[1m102/102\u001b[0m \u001b[32m━━━━━━━━━━━━━━━━━━━━\u001b[0m\u001b[37m\u001b[0m \u001b[1m5s\u001b[0m 44ms/step - accuracy: 0.5849 - loss: 2.6477 - val_accuracy: 0.5960 - val_loss: 2.3577\n",
      "Epoch 21/160\n",
      "\u001b[1m102/102\u001b[0m \u001b[32m━━━━━━━━━━━━━━━━━━━━\u001b[0m\u001b[37m\u001b[0m \u001b[1m5s\u001b[0m 45ms/step - accuracy: 0.5866 - loss: 2.6320 - val_accuracy: 0.6370 - val_loss: 2.1729\n",
      "Epoch 22/160\n",
      "\u001b[1m102/102\u001b[0m \u001b[32m━━━━━━━━━━━━━━━━━━━━\u001b[0m\u001b[37m\u001b[0m \u001b[1m4s\u001b[0m 44ms/step - accuracy: 0.6106 - loss: 2.4224 - val_accuracy: 0.6254 - val_loss: 2.1267\n",
      "Epoch 23/160\n",
      "\u001b[1m102/102\u001b[0m \u001b[32m━━━━━━━━━━━━━━━━━━━━\u001b[0m\u001b[37m\u001b[0m \u001b[1m5s\u001b[0m 44ms/step - accuracy: 0.6372 - loss: 2.3062 - val_accuracy: 0.6156 - val_loss: 2.0982\n",
      "Epoch 24/160\n",
      "\u001b[1m102/102\u001b[0m \u001b[32m━━━━━━━━━━━━━━━━━━━━\u001b[0m\u001b[37m\u001b[0m \u001b[1m5s\u001b[0m 44ms/step - accuracy: 0.6323 - loss: 2.2948 - val_accuracy: 0.6278 - val_loss: 2.0056\n",
      "Epoch 25/160\n",
      "\u001b[1m102/102\u001b[0m \u001b[32m━━━━━━━━━━━━━━━━━━━━\u001b[0m\u001b[37m\u001b[0m \u001b[1m5s\u001b[0m 45ms/step - accuracy: 0.6400 - loss: 2.2412 - val_accuracy: 0.5733 - val_loss: 2.0774\n",
      "Epoch 26/160\n",
      "\u001b[1m102/102\u001b[0m \u001b[32m━━━━━━━━━━━━━━━━━━━━\u001b[0m\u001b[37m\u001b[0m \u001b[1m5s\u001b[0m 46ms/step - accuracy: 0.6366 - loss: 2.1371 - val_accuracy: 0.6462 - val_loss: 1.8945\n",
      "Epoch 27/160\n",
      "\u001b[1m102/102\u001b[0m \u001b[32m━━━━━━━━━━━━━━━━━━━━\u001b[0m\u001b[37m\u001b[0m \u001b[1m5s\u001b[0m 45ms/step - accuracy: 0.6373 - loss: 2.2326 - val_accuracy: 0.6468 - val_loss: 1.9161\n",
      "Epoch 28/160\n",
      "\u001b[1m102/102\u001b[0m \u001b[32m━━━━━━━━━━━━━━━━━━━━\u001b[0m\u001b[37m\u001b[0m \u001b[1m5s\u001b[0m 45ms/step - accuracy: 0.6679 - loss: 2.0934 - val_accuracy: 0.6542 - val_loss: 1.8882\n",
      "Epoch 29/160\n",
      "\u001b[1m102/102\u001b[0m \u001b[32m━━━━━━━━━━━━━━━━━━━━\u001b[0m\u001b[37m\u001b[0m \u001b[1m5s\u001b[0m 45ms/step - accuracy: 0.6753 - loss: 1.9992 - val_accuracy: 0.6665 - val_loss: 1.7884\n",
      "Epoch 30/160\n",
      "\u001b[1m102/102\u001b[0m \u001b[32m━━━━━━━━━━━━━━━━━━━━\u001b[0m\u001b[37m\u001b[0m \u001b[1m5s\u001b[0m 45ms/step - accuracy: 0.6655 - loss: 2.0204 - val_accuracy: 0.6781 - val_loss: 1.7530\n",
      "Epoch 31/160\n",
      "\u001b[1m102/102\u001b[0m \u001b[32m━━━━━━━━━━━━━━━━━━━━\u001b[0m\u001b[37m\u001b[0m \u001b[1m5s\u001b[0m 44ms/step - accuracy: 0.6760 - loss: 2.0039 - val_accuracy: 0.6738 - val_loss: 1.7291\n",
      "Epoch 32/160\n",
      "\u001b[1m102/102\u001b[0m \u001b[32m━━━━━━━━━━━━━━━━━━━━\u001b[0m\u001b[37m\u001b[0m \u001b[1m5s\u001b[0m 46ms/step - accuracy: 0.6656 - loss: 2.0257 - val_accuracy: 0.6849 - val_loss: 1.7130\n",
      "Epoch 33/160\n",
      "\u001b[1m102/102\u001b[0m \u001b[32m━━━━━━━━━━━━━━━━━━━━\u001b[0m\u001b[37m\u001b[0m \u001b[1m5s\u001b[0m 45ms/step - accuracy: 0.6823 - loss: 2.0029 - val_accuracy: 0.6990 - val_loss: 1.6665\n",
      "Epoch 34/160\n",
      "\u001b[1m102/102\u001b[0m \u001b[32m━━━━━━━━━━━━━━━━━━━━\u001b[0m\u001b[37m\u001b[0m \u001b[1m5s\u001b[0m 45ms/step - accuracy: 0.6963 - loss: 1.8877 - val_accuracy: 0.6849 - val_loss: 1.6898\n",
      "Epoch 35/160\n",
      "\u001b[1m102/102\u001b[0m \u001b[32m━━━━━━━━━━━━━━━━━━━━\u001b[0m\u001b[37m\u001b[0m \u001b[1m5s\u001b[0m 44ms/step - accuracy: 0.7044 - loss: 1.8812 - val_accuracy: 0.6934 - val_loss: 1.6652\n",
      "Epoch 36/160\n",
      "\u001b[1m102/102\u001b[0m \u001b[32m━━━━━━━━━━━━━━━━━━━━\u001b[0m\u001b[37m\u001b[0m \u001b[1m5s\u001b[0m 45ms/step - accuracy: 0.7517 - loss: 1.7809 - val_accuracy: 0.7180 - val_loss: 1.6002\n",
      "Epoch 37/160\n",
      "\u001b[1m102/102\u001b[0m \u001b[32m━━━━━━━━━━━━━━━━━━━━\u001b[0m\u001b[37m\u001b[0m \u001b[1m5s\u001b[0m 45ms/step - accuracy: 0.7500 - loss: 1.7254 - val_accuracy: 0.7265 - val_loss: 1.5670\n",
      "Epoch 38/160\n",
      "\u001b[1m102/102\u001b[0m \u001b[32m━━━━━━━━━━━━━━━━━━━━\u001b[0m\u001b[37m\u001b[0m \u001b[1m5s\u001b[0m 45ms/step - accuracy: 0.7327 - loss: 1.7729 - val_accuracy: 0.7229 - val_loss: 1.5723\n",
      "Epoch 39/160\n",
      "\u001b[1m102/102\u001b[0m \u001b[32m━━━━━━━━━━━━━━━━━━━━\u001b[0m\u001b[37m\u001b[0m \u001b[1m5s\u001b[0m 46ms/step - accuracy: 0.7667 - loss: 1.6874 - val_accuracy: 0.7357 - val_loss: 1.5404\n",
      "Epoch 40/160\n",
      "\u001b[1m102/102\u001b[0m \u001b[32m━━━━━━━━━━━━━━━━━━━━\u001b[0m\u001b[37m\u001b[0m \u001b[1m5s\u001b[0m 45ms/step - accuracy: 0.7571 - loss: 1.7069 - val_accuracy: 0.7339 - val_loss: 1.5295\n",
      "Epoch 41/160\n",
      "\u001b[1m102/102\u001b[0m \u001b[32m━━━━━━━━━━━━━━━━━━━━\u001b[0m\u001b[37m\u001b[0m \u001b[1m5s\u001b[0m 45ms/step - accuracy: 0.7675 - loss: 1.6677 - val_accuracy: 0.7357 - val_loss: 1.5297\n",
      "Epoch 42/160\n",
      "\u001b[1m102/102\u001b[0m \u001b[32m━━━━━━━━━━━━━━━━━━━━\u001b[0m\u001b[37m\u001b[0m \u001b[1m5s\u001b[0m 45ms/step - accuracy: 0.7656 - loss: 1.7301 - val_accuracy: 0.7443 - val_loss: 1.5245\n",
      "Epoch 43/160\n",
      "\u001b[1m102/102\u001b[0m \u001b[32m━━━━━━━━━━━━━━━━━━━━\u001b[0m\u001b[37m\u001b[0m \u001b[1m5s\u001b[0m 45ms/step - accuracy: 0.7489 - loss: 1.8140 - val_accuracy: 0.7425 - val_loss: 1.5221\n",
      "Epoch 44/160\n",
      "\u001b[1m102/102\u001b[0m \u001b[32m━━━━━━━━━━━━━━━━━━━━\u001b[0m\u001b[37m\u001b[0m \u001b[1m5s\u001b[0m 44ms/step - accuracy: 0.7478 - loss: 1.7917 - val_accuracy: 0.7425 - val_loss: 1.5199\n",
      "Epoch 45/160\n",
      "\u001b[1m102/102\u001b[0m \u001b[32m━━━━━━━━━━━━━━━━━━━━\u001b[0m\u001b[37m\u001b[0m \u001b[1m5s\u001b[0m 45ms/step - accuracy: 0.7511 - loss: 1.7862 - val_accuracy: 0.4347 - val_loss: 2.3343\n",
      "Epoch 46/160\n",
      "\u001b[1m102/102\u001b[0m \u001b[32m━━━━━━━━━━━━━━━━━━━━\u001b[0m\u001b[37m\u001b[0m \u001b[1m5s\u001b[0m 46ms/step - accuracy: 0.6254 - loss: 2.0411 - val_accuracy: 0.6567 - val_loss: 1.7280\n",
      "Epoch 47/160\n",
      "\u001b[1m102/102\u001b[0m \u001b[32m━━━━━━━━━━━━━━━━━━━━\u001b[0m\u001b[37m\u001b[0m \u001b[1m5s\u001b[0m 45ms/step - accuracy: 0.6302 - loss: 2.0583 - val_accuracy: 0.6726 - val_loss: 1.6953\n",
      "Epoch 48/160\n",
      "\u001b[1m102/102\u001b[0m \u001b[32m━━━━━━━━━━━━━━━━━━━━\u001b[0m\u001b[37m\u001b[0m \u001b[1m5s\u001b[0m 45ms/step - accuracy: 0.6630 - loss: 1.9777 - val_accuracy: 0.6726 - val_loss: 1.6857\n",
      "Epoch 49/160\n",
      "\u001b[1m102/102\u001b[0m \u001b[32m━━━━━━━━━━━━━━━━━━━━\u001b[0m\u001b[37m\u001b[0m \u001b[1m5s\u001b[0m 45ms/step - accuracy: 0.6551 - loss: 2.0010 - val_accuracy: 0.6315 - val_loss: 1.7563\n",
      "Epoch 50/160\n",
      "\u001b[1m102/102\u001b[0m \u001b[32m━━━━━━━━━━━━━━━━━━━━\u001b[0m\u001b[37m\u001b[0m \u001b[1m5s\u001b[0m 45ms/step - accuracy: 0.6691 - loss: 1.9120 - val_accuracy: 0.6493 - val_loss: 1.7759\n",
      "Epoch 51/160\n",
      "\u001b[1m102/102\u001b[0m \u001b[32m━━━━━━━━━━━━━━━━━━━━\u001b[0m\u001b[37m\u001b[0m \u001b[1m5s\u001b[0m 44ms/step - accuracy: 0.6923 - loss: 1.8509 - val_accuracy: 0.6383 - val_loss: 1.7525\n",
      "Epoch 52/160\n",
      "\u001b[1m102/102\u001b[0m \u001b[32m━━━━━━━━━━━━━━━━━━━━\u001b[0m\u001b[37m\u001b[0m \u001b[1m5s\u001b[0m 45ms/step - accuracy: 0.7101 - loss: 1.8383 - val_accuracy: 0.6677 - val_loss: 1.6929\n",
      "Epoch 53/160\n",
      "\u001b[1m102/102\u001b[0m \u001b[32m━━━━━━━━━━━━━━━━━━━━\u001b[0m\u001b[37m\u001b[0m \u001b[1m5s\u001b[0m 45ms/step - accuracy: 0.6932 - loss: 1.9167 - val_accuracy: 0.6855 - val_loss: 1.6471\n",
      "Epoch 54/160\n",
      "\u001b[1m102/102\u001b[0m \u001b[32m━━━━━━━━━━━━━━━━━━━━\u001b[0m\u001b[37m\u001b[0m \u001b[1m5s\u001b[0m 45ms/step - accuracy: 0.6883 - loss: 1.8431 - val_accuracy: 0.6677 - val_loss: 1.6941\n",
      "Epoch 55/160\n",
      "\u001b[1m102/102\u001b[0m \u001b[32m━━━━━━━━━━━━━━━━━━━━\u001b[0m\u001b[37m\u001b[0m \u001b[1m5s\u001b[0m 44ms/step - accuracy: 0.7032 - loss: 1.8103 - val_accuracy: 0.6468 - val_loss: 1.7170\n",
      "Epoch 56/160\n",
      "\u001b[1m102/102\u001b[0m \u001b[32m━━━━━━━━━━━━━━━━━━━━\u001b[0m\u001b[37m\u001b[0m \u001b[1m5s\u001b[0m 45ms/step - accuracy: 0.7016 - loss: 1.8725 - val_accuracy: 0.6211 - val_loss: 1.7415\n",
      "Epoch 57/160\n",
      "\u001b[1m102/102\u001b[0m \u001b[32m━━━━━━━━━━━━━━━━━━━━\u001b[0m\u001b[37m\u001b[0m \u001b[1m5s\u001b[0m 44ms/step - accuracy: 0.6955 - loss: 1.8558 - val_accuracy: 0.7045 - val_loss: 1.5706\n",
      "Epoch 58/160\n",
      "\u001b[1m102/102\u001b[0m \u001b[32m━━━━━━━━━━━━━━━━━━━━\u001b[0m\u001b[37m\u001b[0m \u001b[1m5s\u001b[0m 44ms/step - accuracy: 0.6923 - loss: 1.8811 - val_accuracy: 0.6922 - val_loss: 1.6008\n",
      "Epoch 59/160\n",
      "\u001b[1m102/102\u001b[0m \u001b[32m━━━━━━━━━━━━━━━━━━━━\u001b[0m\u001b[37m\u001b[0m \u001b[1m5s\u001b[0m 44ms/step - accuracy: 0.7052 - loss: 1.8266 - val_accuracy: 0.6941 - val_loss: 1.5884\n",
      "Epoch 60/160\n",
      "\u001b[1m102/102\u001b[0m \u001b[32m━━━━━━━━━━━━━━━━━━━━\u001b[0m\u001b[37m\u001b[0m \u001b[1m5s\u001b[0m 46ms/step - accuracy: 0.7052 - loss: 1.8299 - val_accuracy: 0.7026 - val_loss: 1.5826\n",
      "Epoch 61/160\n",
      "\u001b[1m102/102\u001b[0m \u001b[32m━━━━━━━━━━━━━━━━━━━━\u001b[0m\u001b[37m\u001b[0m \u001b[1m5s\u001b[0m 45ms/step - accuracy: 0.6962 - loss: 1.8282 - val_accuracy: 0.7112 - val_loss: 1.5458\n",
      "Epoch 62/160\n",
      "\u001b[1m102/102\u001b[0m \u001b[32m━━━━━━━━━━━━━━━━━━━━\u001b[0m\u001b[37m\u001b[0m \u001b[1m5s\u001b[0m 45ms/step - accuracy: 0.7115 - loss: 1.7841 - val_accuracy: 0.7014 - val_loss: 1.5662\n",
      "Epoch 63/160\n",
      "\u001b[1m102/102\u001b[0m \u001b[32m━━━━━━━━━━━━━━━━━━━━\u001b[0m\u001b[37m\u001b[0m \u001b[1m5s\u001b[0m 44ms/step - accuracy: 0.7350 - loss: 1.7571 - val_accuracy: 0.6953 - val_loss: 1.5501\n",
      "Epoch 64/160\n",
      "\u001b[1m102/102\u001b[0m \u001b[32m━━━━━━━━━━━━━━━━━━━━\u001b[0m\u001b[37m\u001b[0m \u001b[1m5s\u001b[0m 44ms/step - accuracy: 0.7202 - loss: 1.7679 - val_accuracy: 0.6824 - val_loss: 1.5620\n",
      "Epoch 65/160\n",
      "\u001b[1m102/102\u001b[0m \u001b[32m━━━━━━━━━━━━━━━━━━━━\u001b[0m\u001b[37m\u001b[0m \u001b[1m5s\u001b[0m 45ms/step - accuracy: 0.7369 - loss: 1.7453 - val_accuracy: 0.6763 - val_loss: 1.6826\n",
      "Epoch 66/160\n",
      "\u001b[1m102/102\u001b[0m \u001b[32m━━━━━━━━━━━━━━━━━━━━\u001b[0m\u001b[37m\u001b[0m \u001b[1m5s\u001b[0m 44ms/step - accuracy: 0.7397 - loss: 1.7389 - val_accuracy: 0.7118 - val_loss: 1.5423\n",
      "Epoch 67/160\n",
      "\u001b[1m102/102\u001b[0m \u001b[32m━━━━━━━━━━━━━━━━━━━━\u001b[0m\u001b[37m\u001b[0m \u001b[1m5s\u001b[0m 46ms/step - accuracy: 0.7551 - loss: 1.7145 - val_accuracy: 0.6726 - val_loss: 1.6374\n",
      "Epoch 68/160\n",
      "\u001b[1m102/102\u001b[0m \u001b[32m━━━━━━━━━━━━━━━━━━━━\u001b[0m\u001b[37m\u001b[0m \u001b[1m5s\u001b[0m 44ms/step - accuracy: 0.7501 - loss: 1.7036 - val_accuracy: 0.6953 - val_loss: 1.5726\n",
      "Epoch 69/160\n",
      "\u001b[1m102/102\u001b[0m \u001b[32m━━━━━━━━━━━━━━━━━━━━\u001b[0m\u001b[37m\u001b[0m \u001b[1m5s\u001b[0m 45ms/step - accuracy: 0.7417 - loss: 1.7405 - val_accuracy: 0.6861 - val_loss: 1.5455\n",
      "Epoch 70/160\n",
      "\u001b[1m102/102\u001b[0m \u001b[32m━━━━━━━━━━━━━━━━━━━━\u001b[0m\u001b[37m\u001b[0m \u001b[1m4s\u001b[0m 44ms/step - accuracy: 0.7524 - loss: 1.6541 - val_accuracy: 0.7443 - val_loss: 1.4598\n",
      "Epoch 71/160\n",
      "\u001b[1m102/102\u001b[0m \u001b[32m━━━━━━━━━━━━━━━━━━━━\u001b[0m\u001b[37m\u001b[0m \u001b[1m5s\u001b[0m 44ms/step - accuracy: 0.7557 - loss: 1.6535 - val_accuracy: 0.7014 - val_loss: 1.5645\n",
      "Epoch 72/160\n",
      "\u001b[1m102/102\u001b[0m \u001b[32m━━━━━━━━━━━━━━━━━━━━\u001b[0m\u001b[37m\u001b[0m \u001b[1m5s\u001b[0m 44ms/step - accuracy: 0.7352 - loss: 1.7721 - val_accuracy: 0.7327 - val_loss: 1.4477\n",
      "Epoch 73/160\n",
      "\u001b[1m102/102\u001b[0m \u001b[32m━━━━━━━━━━━━━━━━━━━━\u001b[0m\u001b[37m\u001b[0m \u001b[1m5s\u001b[0m 45ms/step - accuracy: 0.7648 - loss: 1.6736 - val_accuracy: 0.7137 - val_loss: 1.5243\n",
      "Epoch 74/160\n",
      "\u001b[1m102/102\u001b[0m \u001b[32m━━━━━━━━━━━━━━━━━━━━\u001b[0m\u001b[37m\u001b[0m \u001b[1m5s\u001b[0m 46ms/step - accuracy: 0.7251 - loss: 1.7591 - val_accuracy: 0.7247 - val_loss: 1.4815\n",
      "Epoch 75/160\n",
      "\u001b[1m102/102\u001b[0m \u001b[32m━━━━━━━━━━━━━━━━━━━━\u001b[0m\u001b[37m\u001b[0m \u001b[1m4s\u001b[0m 44ms/step - accuracy: 0.7804 - loss: 1.6160 - val_accuracy: 0.7161 - val_loss: 1.4811\n",
      "Epoch 76/160\n",
      "\u001b[1m102/102\u001b[0m \u001b[32m━━━━━━━━━━━━━━━━━━━━\u001b[0m\u001b[37m\u001b[0m \u001b[1m5s\u001b[0m 44ms/step - accuracy: 0.7916 - loss: 1.5487 - val_accuracy: 0.7192 - val_loss: 1.4465\n",
      "Epoch 77/160\n",
      "\u001b[1m102/102\u001b[0m \u001b[32m━━━━━━━━━━━━━━━━━━━━\u001b[0m\u001b[37m\u001b[0m \u001b[1m5s\u001b[0m 44ms/step - accuracy: 0.7827 - loss: 1.6500 - val_accuracy: 0.7400 - val_loss: 1.4441\n",
      "Epoch 78/160\n",
      "\u001b[1m102/102\u001b[0m \u001b[32m━━━━━━━━━━━━━━━━━━━━\u001b[0m\u001b[37m\u001b[0m \u001b[1m5s\u001b[0m 45ms/step - accuracy: 0.7732 - loss: 1.6148 - val_accuracy: 0.7272 - val_loss: 1.4306\n",
      "Epoch 79/160\n",
      "\u001b[1m102/102\u001b[0m \u001b[32m━━━━━━━━━━━━━━━━━━━━\u001b[0m\u001b[37m\u001b[0m \u001b[1m5s\u001b[0m 45ms/step - accuracy: 0.7609 - loss: 1.6187 - val_accuracy: 0.7296 - val_loss: 1.4178\n",
      "Epoch 80/160\n",
      "\u001b[1m102/102\u001b[0m \u001b[32m━━━━━━━━━━━━━━━━━━━━\u001b[0m\u001b[37m\u001b[0m \u001b[1m5s\u001b[0m 45ms/step - accuracy: 0.7963 - loss: 1.5773 - val_accuracy: 0.7566 - val_loss: 1.4118\n",
      "Epoch 81/160\n",
      "\u001b[1m102/102\u001b[0m \u001b[32m━━━━━━━━━━━━━━━━━━━━\u001b[0m\u001b[37m\u001b[0m \u001b[1m5s\u001b[0m 46ms/step - accuracy: 0.8159 - loss: 1.5511 - val_accuracy: 0.7321 - val_loss: 1.4484\n",
      "Epoch 82/160\n",
      "\u001b[1m102/102\u001b[0m \u001b[32m━━━━━━━━━━━━━━━━━━━━\u001b[0m\u001b[37m\u001b[0m \u001b[1m5s\u001b[0m 45ms/step - accuracy: 0.8028 - loss: 1.5559 - val_accuracy: 0.7517 - val_loss: 1.3693\n",
      "Epoch 83/160\n",
      "\u001b[1m102/102\u001b[0m \u001b[32m━━━━━━━━━━━━━━━━━━━━\u001b[0m\u001b[37m\u001b[0m \u001b[1m5s\u001b[0m 45ms/step - accuracy: 0.8134 - loss: 1.5006 - val_accuracy: 0.7572 - val_loss: 1.3628\n",
      "Epoch 84/160\n",
      "\u001b[1m102/102\u001b[0m \u001b[32m━━━━━━━━━━━━━━━━━━━━\u001b[0m\u001b[37m\u001b[0m \u001b[1m5s\u001b[0m 45ms/step - accuracy: 0.8107 - loss: 1.5546 - val_accuracy: 0.7400 - val_loss: 1.4141\n",
      "Epoch 85/160\n",
      "\u001b[1m102/102\u001b[0m \u001b[32m━━━━━━━━━━━━━━━━━━━━\u001b[0m\u001b[37m\u001b[0m \u001b[1m5s\u001b[0m 45ms/step - accuracy: 0.8255 - loss: 1.5120 - val_accuracy: 0.7633 - val_loss: 1.3657\n",
      "Epoch 86/160\n",
      "\u001b[1m102/102\u001b[0m \u001b[32m━━━━━━━━━━━━━━━━━━━━\u001b[0m\u001b[37m\u001b[0m \u001b[1m5s\u001b[0m 45ms/step - accuracy: 0.8482 - loss: 1.4519 - val_accuracy: 0.7633 - val_loss: 1.3578\n",
      "Epoch 87/160\n",
      "\u001b[1m102/102\u001b[0m \u001b[32m━━━━━━━━━━━━━━━━━━━━\u001b[0m\u001b[37m\u001b[0m \u001b[1m5s\u001b[0m 45ms/step - accuracy: 0.8072 - loss: 1.5197 - val_accuracy: 0.7394 - val_loss: 1.4160\n",
      "Epoch 88/160\n",
      "\u001b[1m102/102\u001b[0m \u001b[32m━━━━━━━━━━━━━━━━━━━━\u001b[0m\u001b[37m\u001b[0m \u001b[1m5s\u001b[0m 46ms/step - accuracy: 0.8255 - loss: 1.5221 - val_accuracy: 0.7658 - val_loss: 1.3609\n",
      "Epoch 89/160\n",
      "\u001b[1m102/102\u001b[0m \u001b[32m━━━━━━━━━━━━━━━━━━━━\u001b[0m\u001b[37m\u001b[0m \u001b[1m5s\u001b[0m 45ms/step - accuracy: 0.8137 - loss: 1.5269 - val_accuracy: 0.7707 - val_loss: 1.3426\n",
      "Epoch 90/160\n",
      "\u001b[1m102/102\u001b[0m \u001b[32m━━━━━━━━━━━━━━━━━━━━\u001b[0m\u001b[37m\u001b[0m \u001b[1m5s\u001b[0m 44ms/step - accuracy: 0.8110 - loss: 1.5608 - val_accuracy: 0.7670 - val_loss: 1.3465\n",
      "Epoch 91/160\n",
      "\u001b[1m102/102\u001b[0m \u001b[32m━━━━━━━━━━━━━━━━━━━━\u001b[0m\u001b[37m\u001b[0m \u001b[1m5s\u001b[0m 45ms/step - accuracy: 0.8555 - loss: 1.4166 - val_accuracy: 0.7584 - val_loss: 1.3555\n",
      "Epoch 92/160\n",
      "\u001b[1m102/102\u001b[0m \u001b[32m━━━━━━━━━━━━━━━━━━━━\u001b[0m\u001b[37m\u001b[0m \u001b[1m5s\u001b[0m 45ms/step - accuracy: 0.8548 - loss: 1.4431 - val_accuracy: 0.7701 - val_loss: 1.3359\n",
      "Epoch 93/160\n",
      "\u001b[1m102/102\u001b[0m \u001b[32m━━━━━━━━━━━━━━━━━━━━\u001b[0m\u001b[37m\u001b[0m \u001b[1m5s\u001b[0m 45ms/step - accuracy: 0.8619 - loss: 1.4699 - val_accuracy: 0.7676 - val_loss: 1.3379\n",
      "Epoch 94/160\n",
      "\u001b[1m102/102\u001b[0m \u001b[32m━━━━━━━━━━━━━━━━━━━━\u001b[0m\u001b[37m\u001b[0m \u001b[1m5s\u001b[0m 45ms/step - accuracy: 0.8252 - loss: 1.5169 - val_accuracy: 0.7652 - val_loss: 1.3414\n",
      "Epoch 95/160\n",
      "\u001b[1m102/102\u001b[0m \u001b[32m━━━━━━━━━━━━━━━━━━━━\u001b[0m\u001b[37m\u001b[0m \u001b[1m5s\u001b[0m 47ms/step - accuracy: 0.8120 - loss: 1.5399 - val_accuracy: 0.7762 - val_loss: 1.3183\n",
      "Epoch 96/160\n",
      "\u001b[1m102/102\u001b[0m \u001b[32m━━━━━━━━━━━━━━━━━━━━\u001b[0m\u001b[37m\u001b[0m \u001b[1m5s\u001b[0m 45ms/step - accuracy: 0.8578 - loss: 1.4287 - val_accuracy: 0.7756 - val_loss: 1.3275\n",
      "Epoch 97/160\n",
      "\u001b[1m102/102\u001b[0m \u001b[32m━━━━━━━━━━━━━━━━━━━━\u001b[0m\u001b[37m\u001b[0m \u001b[1m5s\u001b[0m 45ms/step - accuracy: 0.8198 - loss: 1.5168 - val_accuracy: 0.7725 - val_loss: 1.3166\n",
      "Epoch 98/160\n",
      "\u001b[1m102/102\u001b[0m \u001b[32m━━━━━━━━━━━━━━━━━━━━\u001b[0m\u001b[37m\u001b[0m \u001b[1m5s\u001b[0m 45ms/step - accuracy: 0.8382 - loss: 1.4717 - val_accuracy: 0.7750 - val_loss: 1.3165\n",
      "Epoch 99/160\n",
      "\u001b[1m102/102\u001b[0m \u001b[32m━━━━━━━━━━━━━━━━━━━━\u001b[0m\u001b[37m\u001b[0m \u001b[1m5s\u001b[0m 45ms/step - accuracy: 0.8319 - loss: 1.4877 - val_accuracy: 0.7781 - val_loss: 1.3136\n",
      "Epoch 100/160\n",
      "\u001b[1m102/102\u001b[0m \u001b[32m━━━━━━━━━━━━━━━━━━━━\u001b[0m\u001b[37m\u001b[0m \u001b[1m5s\u001b[0m 45ms/step - accuracy: 0.8595 - loss: 1.4654 - val_accuracy: 0.7811 - val_loss: 1.3095\n",
      "Epoch 101/160\n",
      "\u001b[1m102/102\u001b[0m \u001b[32m━━━━━━━━━━━━━━━━━━━━\u001b[0m\u001b[37m\u001b[0m \u001b[1m5s\u001b[0m 44ms/step - accuracy: 0.8637 - loss: 1.3887 - val_accuracy: 0.7793 - val_loss: 1.3094\n",
      "Epoch 102/160\n",
      "\u001b[1m102/102\u001b[0m \u001b[32m━━━━━━━━━━━━━━━━━━━━\u001b[0m\u001b[37m\u001b[0m \u001b[1m5s\u001b[0m 47ms/step - accuracy: 0.8752 - loss: 1.4316 - val_accuracy: 0.7781 - val_loss: 1.3113\n",
      "Epoch 103/160\n",
      "\u001b[1m102/102\u001b[0m \u001b[32m━━━━━━━━━━━━━━━━━━━━\u001b[0m\u001b[37m\u001b[0m \u001b[1m5s\u001b[0m 45ms/step - accuracy: 0.8235 - loss: 1.5817 - val_accuracy: 0.7768 - val_loss: 1.3110\n",
      "Epoch 104/160\n",
      "\u001b[1m102/102\u001b[0m \u001b[32m━━━━━━━━━━━━━━━━━━━━\u001b[0m\u001b[37m\u001b[0m \u001b[1m5s\u001b[0m 45ms/step - accuracy: 0.8597 - loss: 1.4363 - val_accuracy: 0.7051 - val_loss: 1.4928\n",
      "Epoch 105/160\n",
      "\u001b[1m102/102\u001b[0m \u001b[32m━━━━━━━━━━━━━━━━━━━━\u001b[0m\u001b[37m\u001b[0m \u001b[1m5s\u001b[0m 44ms/step - accuracy: 0.7523 - loss: 1.6099 - val_accuracy: 0.6309 - val_loss: 1.7257\n",
      "Epoch 106/160\n",
      "\u001b[1m102/102\u001b[0m \u001b[32m━━━━━━━━━━━━━━━━━━━━\u001b[0m\u001b[37m\u001b[0m \u001b[1m5s\u001b[0m 45ms/step - accuracy: 0.7051 - loss: 1.8557 - val_accuracy: 0.6904 - val_loss: 1.5780\n",
      "Epoch 107/160\n",
      "\u001b[1m102/102\u001b[0m \u001b[32m━━━━━━━━━━━━━━━━━━━━\u001b[0m\u001b[37m\u001b[0m \u001b[1m5s\u001b[0m 45ms/step - accuracy: 0.6941 - loss: 1.8512 - val_accuracy: 0.6284 - val_loss: 1.7485\n",
      "Epoch 108/160\n",
      "\u001b[1m102/102\u001b[0m \u001b[32m━━━━━━━━━━━━━━━━━━━━\u001b[0m\u001b[37m\u001b[0m \u001b[1m5s\u001b[0m 45ms/step - accuracy: 0.6911 - loss: 1.8524 - val_accuracy: 0.6683 - val_loss: 1.6415\n",
      "Epoch 109/160\n",
      "\u001b[1m102/102\u001b[0m \u001b[32m━━━━━━━━━━━━━━━━━━━━\u001b[0m\u001b[37m\u001b[0m \u001b[1m5s\u001b[0m 46ms/step - accuracy: 0.7251 - loss: 1.7575 - val_accuracy: 0.7082 - val_loss: 1.5653\n",
      "Epoch 110/160\n",
      "\u001b[1m102/102\u001b[0m \u001b[32m━━━━━━━━━━━━━━━━━━━━\u001b[0m\u001b[37m\u001b[0m \u001b[1m5s\u001b[0m 44ms/step - accuracy: 0.7217 - loss: 1.7337 - val_accuracy: 0.6996 - val_loss: 1.5682\n",
      "Epoch 111/160\n",
      "\u001b[1m102/102\u001b[0m \u001b[32m━━━━━━━━━━━━━━━━━━━━\u001b[0m\u001b[37m\u001b[0m \u001b[1m5s\u001b[0m 44ms/step - accuracy: 0.7223 - loss: 1.8054 - val_accuracy: 0.7124 - val_loss: 1.5260\n",
      "Epoch 112/160\n",
      "\u001b[1m102/102\u001b[0m \u001b[32m━━━━━━━━━━━━━━━━━━━━\u001b[0m\u001b[37m\u001b[0m \u001b[1m5s\u001b[0m 44ms/step - accuracy: 0.7658 - loss: 1.6255 - val_accuracy: 0.7094 - val_loss: 1.5550\n",
      "Epoch 113/160\n",
      "\u001b[1m102/102\u001b[0m \u001b[32m━━━━━━━━━━━━━━━━━━━━\u001b[0m\u001b[37m\u001b[0m \u001b[1m5s\u001b[0m 45ms/step - accuracy: 0.7508 - loss: 1.6495 - val_accuracy: 0.6861 - val_loss: 1.6075\n",
      "Epoch 114/160\n",
      "\u001b[1m102/102\u001b[0m \u001b[32m━━━━━━━━━━━━━━━━━━━━\u001b[0m\u001b[37m\u001b[0m \u001b[1m5s\u001b[0m 44ms/step - accuracy: 0.7464 - loss: 1.6850 - val_accuracy: 0.6499 - val_loss: 1.7090\n",
      "Epoch 115/160\n",
      "\u001b[1m102/102\u001b[0m \u001b[32m━━━━━━━━━━━━━━━━━━━━\u001b[0m\u001b[37m\u001b[0m \u001b[1m5s\u001b[0m 45ms/step - accuracy: 0.7612 - loss: 1.6352 - val_accuracy: 0.7069 - val_loss: 1.5242\n",
      "Epoch 116/160\n",
      "\u001b[1m102/102\u001b[0m \u001b[32m━━━━━━━━━━━━━━━━━━━━\u001b[0m\u001b[37m\u001b[0m \u001b[1m5s\u001b[0m 46ms/step - accuracy: 0.7534 - loss: 1.7286 - val_accuracy: 0.7259 - val_loss: 1.5210\n",
      "Epoch 117/160\n",
      "\u001b[1m102/102\u001b[0m \u001b[32m━━━━━━━━━━━━━━━━━━━━\u001b[0m\u001b[37m\u001b[0m \u001b[1m5s\u001b[0m 45ms/step - accuracy: 0.7621 - loss: 1.6650 - val_accuracy: 0.6806 - val_loss: 1.5919\n",
      "Epoch 118/160\n",
      "\u001b[1m102/102\u001b[0m \u001b[32m━━━━━━━━━━━━━━━━━━━━\u001b[0m\u001b[37m\u001b[0m \u001b[1m5s\u001b[0m 45ms/step - accuracy: 0.7445 - loss: 1.7216 - val_accuracy: 0.6775 - val_loss: 1.5742\n",
      "Epoch 119/160\n",
      "\u001b[1m102/102\u001b[0m \u001b[32m━━━━━━━━━━━━━━━━━━━━\u001b[0m\u001b[37m\u001b[0m \u001b[1m5s\u001b[0m 45ms/step - accuracy: 0.7646 - loss: 1.6283 - val_accuracy: 0.6714 - val_loss: 1.6120\n",
      "Epoch 120/160\n",
      "\u001b[1m102/102\u001b[0m \u001b[32m━━━━━━━━━━━━━━━━━━━━\u001b[0m\u001b[37m\u001b[0m \u001b[1m5s\u001b[0m 45ms/step - accuracy: 0.7514 - loss: 1.6912 - val_accuracy: 0.7241 - val_loss: 1.5209\n",
      "Epoch 121/160\n",
      "\u001b[1m102/102\u001b[0m \u001b[32m━━━━━━━━━━━━━━━━━━━━\u001b[0m\u001b[37m\u001b[0m \u001b[1m5s\u001b[0m 44ms/step - accuracy: 0.7704 - loss: 1.6779 - val_accuracy: 0.7045 - val_loss: 1.5378\n",
      "Epoch 122/160\n",
      "\u001b[1m102/102\u001b[0m \u001b[32m━━━━━━━━━━━━━━━━━━━━\u001b[0m\u001b[37m\u001b[0m \u001b[1m5s\u001b[0m 44ms/step - accuracy: 0.7461 - loss: 1.7074 - val_accuracy: 0.7149 - val_loss: 1.5221\n",
      "Epoch 123/160\n",
      "\u001b[1m102/102\u001b[0m \u001b[32m━━━━━━━━━━━━━━━━━━━━\u001b[0m\u001b[37m\u001b[0m \u001b[1m5s\u001b[0m 46ms/step - accuracy: 0.7427 - loss: 1.7261 - val_accuracy: 0.7174 - val_loss: 1.5128\n",
      "Epoch 124/160\n",
      "\u001b[1m102/102\u001b[0m \u001b[32m━━━━━━━━━━━━━━━━━━━━\u001b[0m\u001b[37m\u001b[0m \u001b[1m5s\u001b[0m 45ms/step - accuracy: 0.7518 - loss: 1.6684 - val_accuracy: 0.7241 - val_loss: 1.4977\n",
      "Epoch 125/160\n",
      "\u001b[1m102/102\u001b[0m \u001b[32m━━━━━━━━━━━━━━━━━━━━\u001b[0m\u001b[37m\u001b[0m \u001b[1m5s\u001b[0m 44ms/step - accuracy: 0.7990 - loss: 1.5821 - val_accuracy: 0.7210 - val_loss: 1.5155\n",
      "Epoch 126/160\n",
      "\u001b[1m102/102\u001b[0m \u001b[32m━━━━━━━━━━━━━━━━━━━━\u001b[0m\u001b[37m\u001b[0m \u001b[1m5s\u001b[0m 45ms/step - accuracy: 0.7992 - loss: 1.5036 - val_accuracy: 0.6941 - val_loss: 1.5824\n",
      "Epoch 127/160\n",
      "\u001b[1m102/102\u001b[0m \u001b[32m━━━━━━━━━━━━━━━━━━━━\u001b[0m\u001b[37m\u001b[0m \u001b[1m5s\u001b[0m 45ms/step - accuracy: 0.7969 - loss: 1.5492 - val_accuracy: 0.6763 - val_loss: 1.6251\n",
      "Epoch 128/160\n",
      "\u001b[1m102/102\u001b[0m \u001b[32m━━━━━━━━━━━━━━━━━━━━\u001b[0m\u001b[37m\u001b[0m \u001b[1m5s\u001b[0m 44ms/step - accuracy: 0.7472 - loss: 1.7240 - val_accuracy: 0.7253 - val_loss: 1.5056\n",
      "Epoch 129/160\n",
      "\u001b[1m102/102\u001b[0m \u001b[32m━━━━━━━━━━━━━━━━━━━━\u001b[0m\u001b[37m\u001b[0m \u001b[1m5s\u001b[0m 44ms/step - accuracy: 0.7877 - loss: 1.6103 - val_accuracy: 0.7063 - val_loss: 1.5022\n",
      "Epoch 130/160\n",
      "\u001b[1m102/102\u001b[0m \u001b[32m━━━━━━━━━━━━━━━━━━━━\u001b[0m\u001b[37m\u001b[0m \u001b[1m5s\u001b[0m 46ms/step - accuracy: 0.8001 - loss: 1.5382 - val_accuracy: 0.7192 - val_loss: 1.5224\n",
      "Epoch 131/160\n",
      "\u001b[1m102/102\u001b[0m \u001b[32m━━━━━━━━━━━━━━━━━━━━\u001b[0m\u001b[37m\u001b[0m \u001b[1m5s\u001b[0m 45ms/step - accuracy: 0.7964 - loss: 1.6452 - val_accuracy: 0.7032 - val_loss: 1.5250\n",
      "Epoch 132/160\n",
      "\u001b[1m102/102\u001b[0m \u001b[32m━━━━━━━━━━━━━━━━━━━━\u001b[0m\u001b[37m\u001b[0m \u001b[1m5s\u001b[0m 45ms/step - accuracy: 0.7809 - loss: 1.6303 - val_accuracy: 0.7026 - val_loss: 1.5244\n",
      "Epoch 133/160\n",
      "\u001b[1m102/102\u001b[0m \u001b[32m━━━━━━━━━━━━━━━━━━━━\u001b[0m\u001b[37m\u001b[0m \u001b[1m5s\u001b[0m 45ms/step - accuracy: 0.8009 - loss: 1.5669 - val_accuracy: 0.7192 - val_loss: 1.5126\n",
      "Epoch 134/160\n",
      "\u001b[1m102/102\u001b[0m \u001b[32m━━━━━━━━━━━━━━━━━━━━\u001b[0m\u001b[37m\u001b[0m \u001b[1m5s\u001b[0m 45ms/step - accuracy: 0.7800 - loss: 1.6105 - val_accuracy: 0.7290 - val_loss: 1.5006\n",
      "Epoch 135/160\n",
      "\u001b[1m102/102\u001b[0m \u001b[32m━━━━━━━━━━━━━━━━━━━━\u001b[0m\u001b[37m\u001b[0m \u001b[1m5s\u001b[0m 45ms/step - accuracy: 0.7878 - loss: 1.5531 - val_accuracy: 0.6683 - val_loss: 1.6290\n",
      "Epoch 136/160\n",
      "\u001b[1m102/102\u001b[0m \u001b[32m━━━━━━━━━━━━━━━━━━━━\u001b[0m\u001b[37m\u001b[0m \u001b[1m5s\u001b[0m 45ms/step - accuracy: 0.7770 - loss: 1.6813 - val_accuracy: 0.6990 - val_loss: 1.5733\n",
      "Epoch 137/160\n",
      "\u001b[1m102/102\u001b[0m \u001b[32m━━━━━━━━━━━━━━━━━━━━\u001b[0m\u001b[37m\u001b[0m \u001b[1m5s\u001b[0m 46ms/step - accuracy: 0.8206 - loss: 1.5508 - val_accuracy: 0.7039 - val_loss: 1.5276\n",
      "Epoch 138/160\n",
      "\u001b[1m102/102\u001b[0m \u001b[32m━━━━━━━━━━━━━━━━━━━━\u001b[0m\u001b[37m\u001b[0m \u001b[1m5s\u001b[0m 44ms/step - accuracy: 0.7742 - loss: 1.6846 - val_accuracy: 0.7278 - val_loss: 1.4826\n",
      "Epoch 139/160\n",
      "\u001b[1m102/102\u001b[0m \u001b[32m━━━━━━━━━━━━━━━━━━━━\u001b[0m\u001b[37m\u001b[0m \u001b[1m5s\u001b[0m 45ms/step - accuracy: 0.8169 - loss: 1.5801 - val_accuracy: 0.6941 - val_loss: 1.5406\n",
      "Epoch 140/160\n",
      "\u001b[1m102/102\u001b[0m \u001b[32m━━━━━━━━━━━━━━━━━━━━\u001b[0m\u001b[37m\u001b[0m \u001b[1m5s\u001b[0m 45ms/step - accuracy: 0.7674 - loss: 1.6841 - val_accuracy: 0.7265 - val_loss: 1.4955\n",
      "Epoch 140: early stopping\n",
      "Restoring model weights from the end of the best epoch: 100.\n",
      "✔ Training done – artefacts saved in .\n"
     ]
    },
    {
     "name": "stderr",
     "output_type": "stream",
     "text": [
      "2025-07-04 02:39:33.033695: E tensorflow/core/framework/node_def_util.cc:676] NodeDef mentions attribute use_unbounded_threadpool which is not in the op definition: Op<name=MapDataset; signature=input_dataset:variant, other_arguments: -> handle:variant; attr=f:func; attr=Targuments:list(type),min=0; attr=output_types:list(type),min=1; attr=output_shapes:list(shape),min=1; attr=use_inter_op_parallelism:bool,default=true; attr=preserve_cardinality:bool,default=false; attr=force_synchronous:bool,default=false; attr=metadata:string,default=\"\"> This may be expected if your graph generating binary is newer  than this binary. Unknown attributes will be ignored. NodeDef: {{node ParallelMapDatasetV2/_14}}\n"
     ]
    },
    {
     "name": "stdout",
     "output_type": "stream",
     "text": [
      "\u001b[1m51/51\u001b[0m \u001b[32m━━━━━━━━━━━━━━━━━━━━\u001b[0m\u001b[37m\u001b[0m \u001b[1m3s\u001b[0m 41ms/step\n",
      "Hold‑out H‑F1 = 0.8647\n"
     ]
    }
   ],
   "source": [
    "\n",
    "if TRAIN:\n",
    "    print(\"▶ TRAIN MODE – loading dataset …\")\n",
    "    df = pd.read_csv(RAW_DIR / \"train.csv\")\n",
    "\n",
    "    train_dem_df = pd.read_csv(RAW_DIR / \"train_demographics.csv\")\n",
    "    df_for_groups = pd.merge(df.copy(), train_dem_df, on='subject', how='left')\n",
    "\n",
    "    le = LabelEncoder()\n",
    "    df['gesture_int'] = le.fit_transform(df['gesture'])\n",
    "    np.save(EXPORT_DIR / \"gesture_classes.npy\", le.classes_)\n",
    "    gesture_classes = le.classes_\n",
    "\n",
    "    print(\"  Calculating base engineered IMU features (magnitude, angle)...\")\n",
    "    df['acc_mag'] = np.sqrt(df['acc_x']**2 + df['acc_y']**2 + df['acc_z']**2)\n",
    "    df['rot_angle'] = 2 * np.arccos(df['rot_w'].clip(-1, 1))\n",
    "    \n",
    "    print(\"  Calculating engineered IMU derivatives (jerk, angular velocity) for original acc_mag...\")\n",
    "    df['acc_mag_jerk'] = df.groupby('sequence_id')['acc_mag'].diff().fillna(0)\n",
    "    df['rot_angle_vel'] = df.groupby('sequence_id')['rot_angle'].diff().fillna(0)\n",
    "\n",
    "    print(\"  Removing gravity and calculating linear acceleration features...\")\n",
    "    \n",
    "    linear_accel_list = []\n",
    "    for _, group in df.groupby('sequence_id'):\n",
    "        acc_data_group = group[['acc_x', 'acc_y', 'acc_z']]\n",
    "        rot_data_group = group[['rot_x', 'rot_y', 'rot_z', 'rot_w']]\n",
    "        pose = group['orientation'].iloc[0]\n",
    "        linear_accel_group = remove_gravity_from_acc(acc_data_group, rot_data_group)\n",
    "        #print(\"preTarget\")\n",
    "        linear_accel_group = equivalentToSittingStraight (linear_accel_group, pose)\n",
    "        #print(\"postTarget\")\n",
    "        linear_accel_list.append(pd.DataFrame(linear_accel_group, columns=['linear_acc_x', 'linear_acc_y', 'linear_acc_z'], index=group.index))\n",
    "    \n",
    "    df_linear_accel = pd.concat(linear_accel_list)\n",
    "    df = pd.concat([df, df_linear_accel], axis=1)\n",
    "\n",
    "\n",
    "    df['linear_acc_mag'] = np.sqrt(df['linear_acc_x']**2 + df['linear_acc_y']**2 + df['linear_acc_z']**2)\n",
    "    df['linear_acc_mag_jerk'] = df.groupby('sequence_id')['linear_acc_mag'].diff().fillna(0)\n",
    "\n",
    "    print(\"  Calculating angular velocity from quaternion derivatives...\")\n",
    "    angular_vel_list = []\n",
    "    for _, group in df.groupby('sequence_id'):\n",
    "        rot_data_group = group[['rot_x', 'rot_y', 'rot_z', 'rot_w']]\n",
    "        angular_vel_group = calculate_angular_velocity_from_quat(rot_data_group)\n",
    "        angular_vel_list.append(pd.DataFrame(angular_vel_group, columns=['angular_vel_x', 'angular_vel_y', 'angular_vel_z'], index=group.index))\n",
    "    \n",
    "    df_angular_vel = pd.concat(angular_vel_list)\n",
    "    df = pd.concat([df, df_angular_vel], axis=1)\n",
    "\n",
    "    print(\"  Calculating angular distance between successive quaternions...\")\n",
    "    angular_distance_list = []\n",
    "    for _, group in df.groupby('sequence_id'):\n",
    "        rot_data_group = group[['rot_x', 'rot_y', 'rot_z', 'rot_w']]\n",
    "        angular_dist_group = calculate_angular_distance(rot_data_group)\n",
    "        angular_distance_list.append(pd.DataFrame(angular_dist_group, columns=['angular_distance'], index=group.index))\n",
    "    \n",
    "    df_angular_distance = pd.concat(angular_distance_list)\n",
    "    df = pd.concat([df, df_angular_distance], axis=1)\n",
    "\n",
    "    meta_cols = { } # This was an empty dict in your provided code, keeping it as is.\n",
    "\n",
    "    imu_cols_base = ['linear_acc_x', 'linear_acc_y', 'linear_acc_z']\n",
    "    imu_cols_base.extend([c for c in df.columns if c.startswith('rot_') and c not in ['rot_angle', 'rot_angle_vel']])\n",
    "    \n",
    "    imu_engineered_features = [\n",
    "        'acc_mag', 'rot_angle',\n",
    "        'acc_mag_jerk', 'rot_angle_vel',\n",
    "        'linear_acc_mag', 'linear_acc_mag_jerk',\n",
    "        'angular_vel_x', 'angular_vel_y', 'angular_vel_z', # Existing new features\n",
    "        'angular_distance' # Added new feature\n",
    "    ]\n",
    "    imu_cols = imu_cols_base + imu_engineered_features\n",
    "    imu_cols = list(dict.fromkeys(imu_cols)) # Для удаления дубликатов\n",
    "\n",
    "    thm_cols_original = [c for c in df.columns if c.startswith('thm_')]\n",
    "    \n",
    "    tof_aggregated_cols_template = []\n",
    "    for i in range(1, 6):\n",
    "        tof_aggregated_cols_template.extend([f'tof_{i}_mean', f'tof_{i}_std', f'tof_{i}_min', f'tof_{i}_max'])\n",
    "\n",
    "    final_feature_cols = imu_cols + thm_cols_original + tof_aggregated_cols_template\n",
    "    imu_dim_final = len(imu_cols)\n",
    "    tof_thm_aggregated_dim_final = len(thm_cols_original) + len(tof_aggregated_cols_template)\n",
    "    \n",
    "    print(f\"  IMU (incl. engineered & derivatives) {imu_dim_final} | THM + Aggregated TOF {tof_thm_aggregated_dim_final} | total {len(final_feature_cols)} features\")\n",
    "    np.save(EXPORT_DIR / \"feature_cols.npy\", np.array(final_feature_cols))\n",
    "\n",
    "    print(\"  Building sequences with aggregated TOF and preparing data for scaler...\")\n",
    "    seq_gp = df.groupby('sequence_id') \n",
    "    \n",
    "    all_steps_for_scaler_list = []\n",
    "    X_list_unscaled, y_list_int_for_stratify, lens = [], [], [] \n",
    "\n",
    "    for seq_id, seq_df_orig in seq_gp:\n",
    "        seq_df = seq_df_orig.copy()\n",
    "\n",
    "        for i in range(1, 6):\n",
    "            pixel_cols_tof = [f\"tof_{i}_v{p}\" for p in range(64)]\n",
    "            tof_sensor_data = seq_df[pixel_cols_tof].replace(-1, np.nan)\n",
    "            seq_df[f'tof_{i}_mean'] = tof_sensor_data.mean(axis=1)\n",
    "            seq_df[f'tof_{i}_std']  = tof_sensor_data.std(axis=1)\n",
    "            seq_df[f'tof_{i}_min']  = tof_sensor_data.min(axis=1)\n",
    "            seq_df[f'tof_{i}_max']  = tof_sensor_data.max(axis=1)\n",
    "        \n",
    "        mat_unscaled = seq_df[final_feature_cols].ffill().bfill().fillna(0).values.astype('float32')\n",
    "        \n",
    "        all_steps_for_scaler_list.append(mat_unscaled)\n",
    "        X_list_unscaled.append(mat_unscaled)\n",
    "        y_list_int_for_stratify.append(seq_df['gesture_int'].iloc[0])\n",
    "        lens.append(len(mat_unscaled))\n",
    "\n",
    "    print(\"  Fitting StandardScaler...\")\n",
    "    all_steps_concatenated = np.concatenate(all_steps_for_scaler_list, axis=0)\n",
    "    scaler = StandardScaler().fit(all_steps_concatenated)\n",
    "    joblib.dump(scaler, EXPORT_DIR / \"scaler.pkl\")\n",
    "    del all_steps_for_scaler_list, all_steps_concatenated\n",
    "\n",
    "    print(\"  Scaling and padding sequences...\")\n",
    "    X_scaled_list = [scaler.transform(x_seq) for x_seq in X_list_unscaled]\n",
    "    del X_list_unscaled\n",
    "\n",
    "    pad_len = int(np.percentile(lens, PAD_PERCENTILE))\n",
    "    np.save(EXPORT_DIR / \"sequence_maxlen.npy\", pad_len)\n",
    "    \n",
    "    X = pad_sequences(X_scaled_list, maxlen=pad_len, padding='post', truncating='post', dtype='float32')\n",
    "    del X_scaled_list\n",
    "    \n",
    "    y_int_for_stratify = np.array(y_list_int_for_stratify)\n",
    "    y = to_categorical(y_int_for_stratify, num_classes=len(le.classes_))\n",
    "\n",
    "    print(\"  Splitting data and preparing for training...\")\n",
    "    X_tr, X_val, y_tr, y_val = train_test_split(X, y, test_size=0.2, random_state=82, stratify=y_int_for_stratify)\n",
    "\n",
    "    cw_vals = compute_class_weight('balanced', classes=np.arange(len(le.classes_)), y=y_int_for_stratify)\n",
    "    class_weight = dict(enumerate(cw_vals))\n",
    "\n",
    "    model = build_two_branch_model(pad_len, imu_dim_final, tof_thm_aggregated_dim_final, len(le.classes_), wd=WD)\n",
    "    \n",
    "    steps = len(X_tr) // BATCH_SIZE\n",
    "    lr_sched = tf.keras.optimizers.schedules.CosineDecayRestarts(5e-4, first_decay_steps=15 * steps) \n",
    "    \n",
    "    model.compile(optimizer=Adam(lr_sched),\n",
    "                  loss=tf.keras.losses.CategoricalCrossentropy(label_smoothing=0.1),\n",
    "                  metrics=['accuracy'])\n",
    "\n",
    "    train_gen = MixupGenerator(X_tr, y_tr, batch_size=BATCH_SIZE, alpha=MIXUP_ALPHA)\n",
    "    cb = EarlyStopping(patience=PATIENCE, restore_best_weights=True, verbose=1, monitor='val_accuracy', mode='max')\n",
    "    \n",
    "    print(\"  Starting model training...\")\n",
    "    model.fit(train_gen, epochs=EPOCHS, validation_data=(X_val, y_val),\n",
    "              class_weight=class_weight, callbacks=[cb], verbose=1)\n",
    "\n",
    "    model.save(EXPORT_DIR / \"gesture_two_branch_mixup.h5\")\n",
    "    print(\"✔ Training done – artefacts saved in\", EXPORT_DIR)\n",
    "\n",
    "    from cmi_2025_metric_copy_for_import import CompetitionMetric\n",
    "    preds_val = model.predict(X_val).argmax(1)\n",
    "    true_val_int  = y_val.argmax(1)\n",
    "    \n",
    "    h_f1 = CompetitionMetric().calculate_hierarchical_f1(\n",
    "        pd.DataFrame({'gesture': le.classes_[true_val_int]}),\n",
    "        pd.DataFrame({'gesture': le.classes_[preds_val]}))\n",
    "    print(\"Hold‑out H‑F1 =\", round(h_f1, 4))\n",
    "else:\n",
    "    print(\"▶ INFERENCE MODE – loading artefacts from\", PRETRAINED_DIR)\n",
    "    final_feature_cols = np.load(PRETRAINED_DIR / \"feature_cols.npy\", allow_pickle=True).tolist()\n",
    "    pad_len        = int(np.load(PRETRAINED_DIR / \"sequence_maxlen.npy\"))\n",
    "    scaler         = joblib.load(PRETRAINED_DIR / \"scaler.pkl\")\n",
    "    gesture_classes = np.load(PRETRAINED_DIR / \"gesture_classes.npy\", allow_pickle=True)\n",
    "\n",
    "    # Re-calculate imu_dim_final based on the actual features that will be used\n",
    "    # Убедитесь, что 'angular_distance' учитывается здесь при инференсе\n",
    "    imu_features_in_final_cols = [c for c in final_feature_cols if any(c.startswith(prefix) for prefix in ['linear_acc_', 'acc_', 'rot_', 'angular_vel_', 'angular_distance'])]\n",
    "    imu_dim_final = len(imu_features_in_final_cols)\n",
    "\n",
    "    tof_thm_aggregated_dim_final = len(final_feature_cols) - imu_dim_final\n",
    "\n",
    "   \n",
    "    \n",
    "    model = load_model(PRETRAINED_DIR / \"gesture_two_branch_mixup.h5\",\n",
    "                       compile=False, custom_objects=custom_objs)\n",
    "    print(\"  Model, scaler, feature_cols, pad_len loaded – ready for evaluation\")"
   ]
  },
  {
   "cell_type": "code",
   "execution_count": null,
   "id": "831c59c9",
   "metadata": {
    "papermill": {
     "duration": 0.356879,
     "end_time": "2025-07-04T02:39:36.871964",
     "exception": false,
     "start_time": "2025-07-04T02:39:36.515085",
     "status": "completed"
    },
    "tags": []
   },
   "outputs": [],
   "source": []
  },
  {
   "cell_type": "markdown",
   "id": "467338fc",
   "metadata": {
    "papermill": {
     "duration": 0.423305,
     "end_time": "2025-07-04T02:39:37.642992",
     "exception": false,
     "start_time": "2025-07-04T02:39:37.219687",
     "status": "completed"
    },
    "tags": []
   },
   "source": [
    "<h1 style=\"color: #6cb4e4;  text-align: center;  padding: 0.25em;  border-top: solid 2.5px #6cb4e4;  border-bottom: solid 2.5px #6cb4e4;  background: -webkit-repeating-linear-gradient(-45deg, #f0f8ff, #f0f8ff 3px,#e9f4ff 3px, #e9f4ff 7px);  background: repeating-linear-gradient(-45deg, #f0f8ff, #f0f8ff 3px,#e9f4ff 3px, #e9f4ff 7px);height:45px;\">\n",
    "<b>\n",
    "Blending Model\n",
    "</b></h1> "
   ]
  },
  {
   "cell_type": "markdown",
   "id": "eb1e14dd",
   "metadata": {
    "papermill": {
     "duration": 0.349468,
     "end_time": "2025-07-04T02:39:38.351981",
     "exception": false,
     "start_time": "2025-07-04T02:39:38.002513",
     "status": "completed"
    },
    "tags": []
   },
   "source": [
    "### 》》》**LoadBlendingModels**"
   ]
  },
  {
   "cell_type": "code",
   "execution_count": 13,
   "id": "7a38f9ad",
   "metadata": {
    "execution": {
     "iopub.execute_input": "2025-07-04T02:39:39.124643Z",
     "iopub.status.busy": "2025-07-04T02:39:39.124101Z",
     "iopub.status.idle": "2025-07-04T02:39:39.636934Z",
     "shell.execute_reply": "2025-07-04T02:39:39.635955Z"
    },
    "papermill": {
     "duration": 0.866017,
     "end_time": "2025-07-04T02:39:39.638789",
     "exception": false,
     "start_time": "2025-07-04T02:39:38.772772",
     "status": "completed"
    },
    "tags": []
   },
   "outputs": [
    {
     "data": {
      "text/plain": [
       "'\\n\\nmodel = load_model(\"/kaggle/input/20250627-cmi-b-102-b-105/0.8914825129445727_.h5\",compile=False, custom_objects=custom_objs)\\nmodels.append(model)\\nmodel = load_model(\"/kaggle/input/20250627-cmi-b-102-b-105/0.8912659261884439_.h5\",compile=False, custom_objects=custom_objs)\\nmodels.append(model)\\nmodel = load_model(\"/kaggle/input/20250627-cmi-b-102-b-105/0.891134700273056_.h5\",compile=False, custom_objects=custom_objs)\\nmodels.append(model)\\nmodel = load_model(\"/kaggle/input/20250627-cmi-b-102-b-105/0.8915471835009202_.h5\",compile=False, custom_objects=custom_objs)\\nmodels.append(model)\\nmodel = load_model(\"/kaggle/input/20250627-cmi-b-102-b-105/0.8922128108549205_.h5\",compile=False, custom_objects=custom_objs)\\nmodels.append(model)\\n\\n'"
      ]
     },
     "execution_count": 13,
     "metadata": {},
     "output_type": "execute_result"
    }
   ],
   "source": [
    "models = []\n",
    "\n",
    "model = load_model(\"/kaggle/input/lb-0-78-quaternions-tf-bilstm-gru-attention/gesture_two_branch_mixup.h5\",compile=False, custom_objects=custom_objs)\n",
    "models.append(model)\n",
    "\n",
    "'''\n",
    "\n",
    "model = load_model(\"/kaggle/input/20250627-cmi-b-102-b-105/0.8914825129445727_.h5\",compile=False, custom_objects=custom_objs)\n",
    "models.append(model)\n",
    "model = load_model(\"/kaggle/input/20250627-cmi-b-102-b-105/0.8912659261884439_.h5\",compile=False, custom_objects=custom_objs)\n",
    "models.append(model)\n",
    "model = load_model(\"/kaggle/input/20250627-cmi-b-102-b-105/0.891134700273056_.h5\",compile=False, custom_objects=custom_objs)\n",
    "models.append(model)\n",
    "model = load_model(\"/kaggle/input/20250627-cmi-b-102-b-105/0.8915471835009202_.h5\",compile=False, custom_objects=custom_objs)\n",
    "models.append(model)\n",
    "model = load_model(\"/kaggle/input/20250627-cmi-b-102-b-105/0.8922128108549205_.h5\",compile=False, custom_objects=custom_objs)\n",
    "models.append(model)\n",
    "\n",
    "'''"
   ]
  },
  {
   "cell_type": "markdown",
   "id": "d78d9d36",
   "metadata": {
    "papermill": {
     "duration": 0.353358,
     "end_time": "2025-07-04T02:39:40.346709",
     "exception": false,
     "start_time": "2025-07-04T02:39:39.993351",
     "status": "completed"
    },
    "tags": []
   },
   "source": [
    "### 》》》**Predict**"
   ]
  },
  {
   "cell_type": "code",
   "execution_count": 14,
   "id": "abd3c0d4",
   "metadata": {
    "execution": {
     "iopub.execute_input": "2025-07-04T02:39:41.116854Z",
     "iopub.status.busy": "2025-07-04T02:39:41.116528Z",
     "iopub.status.idle": "2025-07-04T02:39:41.134735Z",
     "shell.execute_reply": "2025-07-04T02:39:41.133797Z"
    },
    "papermill": {
     "duration": 0.372895,
     "end_time": "2025-07-04T02:39:41.136137",
     "exception": false,
     "start_time": "2025-07-04T02:39:40.763242",
     "status": "completed"
    },
    "tags": []
   },
   "outputs": [],
   "source": [
    "def predict(sequence: pl.DataFrame, demographics: pl.DataFrame) -> str:\n",
    "    df_seq = sequence.to_pandas()\n",
    "\n",
    "    df_seq['acc_mag'] = np.sqrt(df_seq['acc_x']**2 + df_seq['acc_y']**2 + df_seq['acc_z']**2)\n",
    "    df_seq['rot_angle'] = 2 * np.arccos(df_seq['rot_w'].clip(-1, 1))\n",
    "    df_seq['acc_mag_jerk'] = df_seq['acc_mag'].diff().fillna(0)\n",
    "    df_seq['rot_angle_vel'] = df_seq['rot_angle'].diff().fillna(0)\n",
    "\n",
    "    acc_cols_for_gravity_removal = ['acc_x', 'acc_y', 'acc_z']\n",
    "    rot_cols_for_gravity_removal = ['rot_x', 'rot_y', 'rot_z', 'rot_w']\n",
    "\n",
    "    if not all(col in df_seq.columns for col in acc_cols_for_gravity_removal + rot_cols_for_gravity_removal):\n",
    "        print(f\"Warning: Missing raw acc/rot columns for gravity removal in predict for sequence. Using raw acc as linear.\")\n",
    "        df_seq['linear_acc_x'] = df_seq.get('acc_x', 0)\n",
    "        df_seq['linear_acc_y'] = df_seq.get('acc_y', 0)\n",
    "        df_seq['linear_acc_z'] = df_seq.get('acc_z', 0)\n",
    "    else:\n",
    "        acc_data_seq = df_seq[acc_cols_for_gravity_removal]\n",
    "        rot_data_seq = df_seq[rot_cols_for_gravity_removal]\n",
    "        linear_accel_seq_arr = remove_gravity_from_acc(acc_data_seq, rot_data_seq)\n",
    "        \n",
    "        df_seq['linear_acc_x'] = linear_accel_seq_arr[:, 0]\n",
    "        df_seq['linear_acc_y'] = linear_accel_seq_arr[:, 1]\n",
    "        df_seq['linear_acc_z'] = linear_accel_seq_arr[:, 2]\n",
    "    \n",
    "    df_seq['linear_acc_mag'] = np.sqrt(df_seq['linear_acc_x']**2 + df_seq['linear_acc_y']**2 + df_seq['linear_acc_z']**2)\n",
    "    df_seq['linear_acc_mag_jerk'] = df_seq['linear_acc_mag'].diff().fillna(0)\n",
    "    \n",
    "    # Calculate angular velocity from quaternions in predict function\n",
    "    if all(col in df_seq.columns for col in rot_cols_for_gravity_removal):\n",
    "        angular_vel_seq_arr = calculate_angular_velocity_from_quat(df_seq[rot_cols_for_gravity_removal])\n",
    "        df_seq['angular_vel_x'] = angular_vel_seq_arr[:, 0]\n",
    "        df_seq['angular_vel_y'] = angular_vel_seq_arr[:, 1]\n",
    "        df_seq['angular_vel_z'] = angular_vel_seq_arr[:, 2]\n",
    "    else:\n",
    "        print(f\"Warning: Missing quaternion columns for angular velocity calculation in predict. Filling with 0.\")\n",
    "        df_seq['angular_vel_x'] = 0\n",
    "        df_seq['angular_vel_y'] = 0\n",
    "        df_seq['angular_vel_z'] = 0\n",
    "\n",
    "    # Calculate angular distance from quaternions in predict function\n",
    "    if all(col in df_seq.columns for col in rot_cols_for_gravity_removal):\n",
    "        angular_dist_seq_arr = calculate_angular_distance(df_seq[rot_cols_for_gravity_removal])\n",
    "        df_seq['angular_distance'] = angular_dist_seq_arr\n",
    "    else:\n",
    "        print(f\"Warning: Missing quaternion columns for angular distance calculation in predict. Filling with 0.\")\n",
    "        df_seq['angular_distance'] = 0\n",
    "\n",
    "\n",
    "    for i in range(1, 6): \n",
    "        pixel_cols_tof = [f\"tof_{i}_v{p}\" for p in range(64)]\n",
    "        if not all(col in df_seq.columns for col in pixel_cols_tof):\n",
    "            print(f\"Warning: Missing some TOF pixel columns for tof_{i} in predict. Filling aggregates with 0.\")\n",
    "            df_seq[f'tof_{i}_mean'] = 0\n",
    "            df_seq[f'tof_{i}_std']  = 0\n",
    "            df_seq[f'tof_{i}_min']  = 0\n",
    "            df_seq[f'tof_{i}_max']  = 0\n",
    "            continue\n",
    "\n",
    "        tof_sensor_data = df_seq[pixel_cols_tof].replace(-1, np.nan)\n",
    "        df_seq[f'tof_{i}_mean'] = tof_sensor_data.mean(axis=1)\n",
    "        df_seq[f'tof_{i}_std']  = tof_sensor_data.std(axis=1)\n",
    "        df_seq[f'tof_{i}_min']  = tof_sensor_data.min(axis=1)\n",
    "        df_seq[f'tof_{i}_max']  = tof_sensor_data.max(axis=1)\n",
    "        \n",
    "    if 'tof_range_across_sensors' in final_feature_cols:\n",
    "        tof_mean_cols_for_contrast = [f'tof_{i}_mean' for i in range(1, 6) if f'tof_{i}_mean' in df_seq.columns]\n",
    "        thm_cols_for_contrast = [f'thm_{i}' for i in range(1, 6) if f'thm_{i}' in df_seq.columns]\n",
    "\n",
    "        if tof_mean_cols_for_contrast:\n",
    "            tof_values_for_contrast = df_seq[tof_mean_cols_for_contrast]\n",
    "            df_seq['tof_range_across_sensors'] = tof_values_for_contrast.max(axis=1) - tof_values_for_contrast.min(axis=1)\n",
    "            df_seq['tof_std_across_sensors'] = tof_values_for_contrast.std(axis=1)\n",
    "        else:\n",
    "            df_seq['tof_range_across_sensors'] = 0\n",
    "            df_seq['tof_std_across_sensors'] = 0\n",
    "\n",
    "        if thm_cols_for_contrast:\n",
    "            thm_values_for_contrast = df_seq[thm_cols_for_contrast]\n",
    "            df_seq['thm_range_across_sensors'] = thm_values_for_contrast.max(axis=1) - thm_values_for_contrast.min(axis=1)\n",
    "            df_seq['thm_std_across_sensors'] = thm_values_for_contrast.std(axis=1)\n",
    "        else:\n",
    "            df_seq['thm_range_across_sensors'] = 0\n",
    "            df_seq['thm_std_across_sensors'] = 0\n",
    "        \n",
    "    df_seq_final_features = pd.DataFrame(index=df_seq.index)\n",
    "    for col_name in final_feature_cols:\n",
    "        if col_name in df_seq.columns:\n",
    "            df_seq_final_features[col_name] = df_seq[col_name]\n",
    "        else:\n",
    "            print(f\"CRITICAL ERROR IN PREDICT: Feature '{col_name}' expected by model (from final_feature_cols) was NOT generated in df_seq. Filling with 0. THIS IS LIKELY A BUG.\")\n",
    "            df_seq_final_features[col_name] = 0 \n",
    "            \n",
    "    mat_unscaled = df_seq_final_features.ffill().bfill().fillna(0).values.astype('float32')\n",
    "    \n",
    "    mat_scaled = scaler.transform(mat_unscaled)\n",
    "    \n",
    "    pad_input = pad_sequences([mat_scaled], maxlen=pad_len, padding='post', truncating='post', dtype='float32')\n",
    "    \n",
    "    # ---------------------------------------------- #\n",
    "    # Blending Models\n",
    "    # ---------------------------------------------- #\n",
    "    predictions = []\n",
    "    for model in models:\n",
    "        idx = int(model.predict(pad_input, verbose=0).argmax(1)[0])\n",
    "        predictions.append(idx)\n",
    "    \n",
    "    idx = max(set(predictions), key=predictions.count)\n",
    "    return str(gesture_classes[idx])"
   ]
  },
  {
   "cell_type": "markdown",
   "id": "7a0ca0e3",
   "metadata": {
    "papermill": {
     "duration": 0.42968,
     "end_time": "2025-07-04T02:39:41.917165",
     "exception": false,
     "start_time": "2025-07-04T02:39:41.487485",
     "status": "completed"
    },
    "tags": []
   },
   "source": [
    "### 》》》**Submit Inference server**"
   ]
  },
  {
   "cell_type": "code",
   "execution_count": 15,
   "id": "cd2c04d2",
   "metadata": {
    "_kg_hide-output": true,
    "execution": {
     "iopub.execute_input": "2025-07-04T02:39:42.619513Z",
     "iopub.status.busy": "2025-07-04T02:39:42.619137Z",
     "iopub.status.idle": "2025-07-04T02:39:45.597649Z",
     "shell.execute_reply": "2025-07-04T02:39:45.596861Z"
    },
    "papermill": {
     "duration": 3.33042,
     "end_time": "2025-07-04T02:39:45.599249",
     "exception": false,
     "start_time": "2025-07-04T02:39:42.268829",
     "status": "completed"
    },
    "tags": []
   },
   "outputs": [
    {
     "name": "stderr",
     "output_type": "stream",
     "text": [
      "2025-07-04 02:39:43.855401: E tensorflow/core/framework/node_def_util.cc:676] NodeDef mentions attribute use_unbounded_threadpool which is not in the op definition: Op<name=MapDataset; signature=input_dataset:variant, other_arguments: -> handle:variant; attr=f:func; attr=Targuments:list(type),min=0; attr=output_types:list(type),min=1; attr=output_shapes:list(shape),min=1; attr=use_inter_op_parallelism:bool,default=true; attr=preserve_cardinality:bool,default=false; attr=force_synchronous:bool,default=false; attr=metadata:string,default=\"\"> This may be expected if your graph generating binary is newer  than this binary. Unknown attributes will be ignored. NodeDef: {{node ParallelMapDatasetV2/_14}}\n"
     ]
    }
   ],
   "source": [
    "import kaggle_evaluation.cmi_inference_server\n",
    "inference_server = kaggle_evaluation.cmi_inference_server.CMIInferenceServer(predict)\n",
    "\n",
    "if os.getenv('KAGGLE_IS_COMPETITION_RERUN'):\n",
    "    inference_server.serve()\n",
    "else:\n",
    "    inference_server.run_local_gateway(\n",
    "        data_paths=(\n",
    "            '/kaggle/input/cmi-detect-behavior-with-sensor-data/test.csv',\n",
    "            '/kaggle/input/cmi-detect-behavior-with-sensor-data/test_demographics.csv',\n",
    "        )\n",
    "    )"
   ]
  },
  {
   "cell_type": "markdown",
   "id": "f2cca3cd",
   "metadata": {
    "papermill": {
     "duration": 0.421735,
     "end_time": "2025-07-04T02:39:46.378058",
     "exception": false,
     "start_time": "2025-07-04T02:39:45.956323",
     "status": "completed"
    },
    "tags": []
   },
   "source": [
    "**测试和评估**"
   ]
  }
 ],
 "metadata": {
  "kaggle": {
   "accelerator": "gpu",
   "dataSources": [
    {
     "databundleVersionId": 12518947,
     "sourceId": 102335,
     "sourceType": "competition"
    },
    {
     "datasetId": 7645099,
     "sourceId": 12139340,
     "sourceType": "datasetVersion"
    },
    {
     "datasetId": 7748073,
     "sourceId": 12293285,
     "sourceType": "datasetVersion"
    },
    {
     "sourceId": 242954653,
     "sourceType": "kernelVersion"
    },
    {
     "sourceId": 246893721,
     "sourceType": "kernelVersion"
    }
   ],
   "dockerImageVersionId": 31041,
   "isGpuEnabled": true,
   "isInternetEnabled": false,
   "language": "python",
   "sourceType": "notebook"
  },
  "kernelspec": {
   "display_name": "Python 3",
   "language": "python",
   "name": "python3"
  },
  "language_info": {
   "codemirror_mode": {
    "name": "ipython",
    "version": 3
   },
   "file_extension": ".py",
   "mimetype": "text/x-python",
   "name": "python",
   "nbconvert_exporter": "python",
   "pygments_lexer": "ipython3",
   "version": "3.11.11"
  },
  "papermill": {
   "default_parameters": {},
   "duration": 1140.996378,
   "end_time": "2025-07-04T02:39:50.072101",
   "environment_variables": {},
   "exception": null,
   "input_path": "__notebook__.ipynb",
   "output_path": "__notebook__.ipynb",
   "parameters": {},
   "start_time": "2025-07-04T02:20:49.075723",
   "version": "2.6.0"
  }
 },
 "nbformat": 4,
 "nbformat_minor": 5
}
